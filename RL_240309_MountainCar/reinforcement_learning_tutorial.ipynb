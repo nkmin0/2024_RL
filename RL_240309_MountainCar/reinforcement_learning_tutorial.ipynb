{
  "cells": [
    {
      "cell_type": "markdown",
      "metadata": {
        "id": "view-in-github",
        "colab_type": "text"
      },
      "source": [
        "<a href=\"https://colab.research.google.com/github/nkmin0/2024_RL/blob/main/RL_240309_MountainCar/reinforcement_learning_tutorial.ipynb\" target=\"_parent\"><img src=\"https://colab.research.google.com/assets/colab-badge.svg\" alt=\"Open In Colab\"/></a>"
      ]
    },
    {
      "cell_type": "markdown",
      "metadata": {
        "id": "w2BsaXtWqpAp"
      },
      "source": [
        "# 강화 학습 맛보기\n",
        "\n",
        "강화 학습 수업에 오신 여러분을 진심으로 환영합니다!\n",
        "\n",
        "여러분이 앞으로 1년 동안 배우게 될 강화 학습은 인공지능 분야 중에서도 가장 독특하고 유용한 기술입니다.\n",
        "아마 다른 어떤 수업에서도 경험하지 못할 재미있고 유익한 경험이 될 거에요."
      ]
    },
    {
      "cell_type": "markdown",
      "metadata": {
        "id": "yPaT76WHqrUV"
      },
      "source": [
        "## 강화 학습 내용 훑어보기\n",
        "\n",
        "강화 학습은 시행착오를 거치며 경험을 통해 적절한 행동 방식을 배워나가는 과정입니다. \"당근과 채찍\" 전략을 생각하면 쉽습니다. 여러분이 좋은 행동을 하면 당근을, 나쁜 행동을 하면 채찍질을 주는 것이 바로 강화 학습입니다. 이 당근과 채찍을 통틀어 강화 학습에서는 \"보상\"이라고 부릅니다. 강화 학습의 가장 중요한 요소 중 하나가 바로 이 보상입니다.\n",
        "\n",
        "![](https://s3-ap-northeast-2.amazonaws.com/opentutorials-user-file/module/4916/12365.jpeg)\n",
        "\n",
        "강화 학습의 또 다른 중요한 요소는 바로 끊임없이 변화하는 환경의 상태입니다. 어러분이 취하는 행동은 여러분 주변의 환경을 변화시킵니다. 여러분은 이 끊임없이 변화하는 환경 속에서 계속 보상을 최대한 취할 수 있도록 노력해야합니다. 이 과정이 바로 강화 학습의 과정과 많이 닮아있습니다.\n",
        "\n"
      ]
    },
    {
      "cell_type": "markdown",
      "metadata": {
        "id": "94yhPKFYquQw"
      },
      "source": [
        "## 강화 학습 예제 경험하기\n",
        "\n",
        "강화 학습이 어떤 문제를 풀 수 있는지 한번 살펴볼까요?\n",
        "\n",
        "사실 강화 학습은 우리 주변에서 흔히 접할 수 있는 대부분의 문제를 다 풀 수 있는 아주 유용한 기술입니다. 로봇을 조종하는 것부터 시작해서, 자율 주행, 주식 투자, 심지어는 최근에 각광받는 ChatGPT 역시 강화 학습 기술이 사용되었습니다. 우리가 일상 생활에서 상벌의 개념을 생각할 수 있는 거의 모든 문제를 강화 학습으로 풀 수 있습니다."
      ]
    },
    {
      "cell_type": "code",
      "execution_count": 3,
      "metadata": {
        "id": "t3e7d7NMlQPE"
      },
      "outputs": [],
      "source": [
        "%%capture\n",
        "!pip install -U ray[rllib]\n",
        "!pip install gputil\n",
        "!pip install ipython==7.10.0\n",
        "!pip install moviepy\n",
        "!pip install gymnasium[classic-control]"
      ]
    },
    {
      "cell_type": "code",
      "execution_count": 4,
      "metadata": {
        "id": "zk7kE26_lTjF"
      },
      "outputs": [],
      "source": [
        "from __future__ import absolute_import\n",
        "from __future__ import division\n",
        "from __future__ import print_function\n",
        "\n",
        "import ray\n",
        "import numpy as np\n",
        "import gymnasium as gym\n",
        "\n",
        "import warnings\n",
        "warnings.filterwarnings('ignore')\n",
        "\n",
        "from IPython.display import HTML\n",
        "from base64 import b64encode\n",
        "from gymnasium.wrappers import RecordVideo\n",
        "\n",
        "\n",
        "def view_video(filename):\n",
        "    video = f'video/{filename}-episode-0.mp4'\n",
        "    mp4 = open(video,'rb').read()\n",
        "    data_url = \"data:video/mp4;base64,\" + b64encode(mp4).decode()\n",
        "\n",
        "    return HTML(\"\"\"\n",
        "    <video width=400 controls>\n",
        "          <source src=\"%s\" type=\"video/mp4\">\n",
        "    </video>\n",
        "    \"\"\" % data_url)"
      ]
    },
    {
      "cell_type": "markdown",
      "metadata": {
        "id": "5_OKJ8jCqxuQ"
      },
      "source": [
        "### 환경 정의하기\n",
        "\n",
        "오늘 수업 시간에는 강화 학습에서 가장 단순하고 유명한 예제 중 하나인 \"Mountain Car\" 문제를 직접 풀어볼 것입니다. 이 문제에서 여러분의 목표는 산 정상의 깃발에 도달하는 것입니다.\n",
        "여러분은 오른쪽 또는 왼쪽으로 가속하는 페달을 밟거나, 페달을 밟지 않는 선택을 할 수 있습니다.\n",
        "산 정상까지 올라가려면 페달을 적절히 밟아야 합니다. 하지만 산의 경사가 너무 가파르기 때문에, 아무리 밟아도 중력 때문에 올라가지 못할 수도 있습니다.\n",
        "\n",
        "![](https://www.gymlibrary.dev/_images/mountain_car.gif)\n",
        "\n",
        "먼저, 이 환경에서 여러분이 취할 수 있는 행동은 다음과 같이 표현할 수 있습니다:\n",
        "\n",
        "0: 왼쪽으로 가속하는 페달 밟기\n",
        "\n",
        "1: 페달 밟지 않기\n",
        "\n",
        "2: 오른쪽으로 가속하는 페달 밟기"
      ]
    },
    {
      "cell_type": "code",
      "execution_count": 3,
      "metadata": {
        "colab": {
          "base_uri": "https://localhost:8080/"
        },
        "id": "X25O_F-BlbXG",
        "outputId": "bd87c4b7-f3c0-476c-a494-d64966261946"
      },
      "outputs": [
        {
          "output_type": "stream",
          "name": "stdout",
          "text": [
            "Created env: <TimeLimit<OrderEnforcing<PassiveEnvChecker<MountainCarEnv<MountainCar-v0>>>>>\n",
            "Available actions: Discrete(3)\n"
          ]
        }
      ],
      "source": [
        "env = gym.make('MountainCar-v0')\n",
        "print('Created env:', env)\n",
        " # 가능한 행동의 개수 [0, 1, 2]"
      ]
    },
    {
      "cell_type": "markdown",
      "metadata": {
        "id": "9aYMdBP4L6Su"
      },
      "source": [
        "다음으로, 이 환경에서 받을 수 있는 상태에 대한 정보는 $s_{t} = (x_{t}, v_{t})$입니다.\n",
        "즉, 여러분이 받는 상태 정보 $s_{t}$는 $x$축 방향에서의 현재 위치 $x_{t}$와 속도 $v_{t}$입니다.\n",
        "\n",
        "$x$축 방향의 좌표는 $(-1.2, 0.6)$ 사이이고, 속도 $v$는 (-0.07, 0.07) 사이입니다."
      ]
    },
    {
      "cell_type": "code",
      "execution_count": 51,
      "metadata": {
        "colab": {
          "base_uri": "https://localhost:8080/"
        },
        "id": "6XWStLA-ldOd",
        "outputId": "7a491c38-b40a-4b61-8b39-f6977badb8f6"
      },
      "outputs": [
        {
          "output_type": "stream",
          "name": "stdout",
          "text": [
            "Observation space: Box([-1.2  -0.07], [0.6  0.07], (2,), float32)\n",
            "The starting state is: [-0.5427396  0.       ]\n"
          ]
        },
        {
          "output_type": "stream",
          "name": "stderr",
          "text": [
            "/usr/local/lib/python3.10/dist-packages/ipykernel/ipkernel.py:283: DeprecationWarning: `should_run_async` will not call `transform_cell` automatically in the future. Please pass the result to `transformed_cell` argument and any exception that happen during thetransform in `preprocessing_exc_tuple` in IPython 7.17 and above.\n",
            "  and should_run_async(code)\n"
          ]
        }
      ],
      "source": [
        "state, _ = env.reset()\n",
        "print('Observation space:', env.observation_space) # 환경의 상태 / x축 빙향의 위치, 속도\n",
        "print('The starting state is:', state) # [시작좌표, 속도]"
      ]
    },
    {
      "cell_type": "markdown",
      "metadata": {
        "id": "lw-WYagCL6Sv"
      },
      "source": [
        "여러분이 어떤 행동을 선택하면, 다음과 같이 환경의 상태가 변화합니다.\n",
        "\n",
        "$v_{t+1} = v_{t} + (\\mathrm{action} - 1) * F - \\cos(3 * x_{t}) * mg$\n",
        "\n",
        "$x_{t+1} = x_{t} + v_{t+1}$\n",
        "\n",
        "여기서 $F$는 페달을 밟을 때 가속하는 힘 $F = 0.001$이고, 중력 $mg = 0.0025$입니다."
      ]
    },
    {
      "cell_type": "code",
      "execution_count": 48,
      "metadata": {
        "colab": {
          "base_uri": "https://localhost:8080/"
        },
        "id": "DKYtgu-blgGL",
        "outputId": "d4b92d61-5295-4ff0-bc57-e22ba1a23837"
      },
      "outputs": [
        {
          "output_type": "stream",
          "name": "stdout",
          "text": [
            "State: [-0.4295984   0.00747945]\n",
            "Reward: -1.0\n",
            "Done: False\n"
          ]
        },
        {
          "output_type": "stream",
          "name": "stderr",
          "text": [
            "/usr/local/lib/python3.10/dist-packages/ipykernel/ipkernel.py:283: DeprecationWarning: `should_run_async` will not call `transform_cell` automatically in the future. Please pass the result to `transformed_cell` argument and any exception that happen during thetransform in `preprocessing_exc_tuple` in IPython 7.17 and above.\n",
            "  and should_run_async(code)\n"
          ]
        }
      ],
      "source": [
        "action = 2 # 0, 1, 2\n",
        "# 행동을 선택하고 난 후, 다음 상태 / 보상 / 환경 끝남 여부\n",
        "state, reward, done, _, _ = env.step(action)\n",
        "print(f\"State: {state}\") # action에 대한 state의 변화 출력 [다음 x축 좌표, 다음 속도]\n",
        "print(f\"Reward: {reward}\") # 다음 보상\n",
        "print(f\"Done: {done}\") # 환경이 끝났는지 (True / False)"
      ]
    },
    {
      "cell_type": "markdown",
      "metadata": {
        "id": "GCUIOuWYq0Nq"
      },
      "source": [
        "### 인공지능 정책 정의하기\n",
        "\n",
        "강화 학습에서 정책은 인공지능의 두뇌입니다. 인공지능이 변화하는 환경 속에서 어떻게 행동할지를 결정하는 지침으로 생각할 수 있습니다. 가장 단순한 형태의 정책으로는 여러분이 취할 수 있는 행동 중에서 아무거나 (샘플링하여) 고르는 것이 있겠습니다."
      ]
    },
    {
      "cell_type": "code",
      "execution_count": 6,
      "metadata": {
        "id": "1o18p51sq0lv"
      },
      "outputs": [],
      "source": [
        "# 이 코드를 수정해서 강화학습을 어떻게 할지를 정함\n",
        "class RandomPolicy():\n",
        "  # 클래스 선언\n",
        "    def __init__(self, action_space):\n",
        "      # 행동공간에 대한 정보 저장\n",
        "        self.action_space = action_space\n",
        "\n",
        "    # 클래스를 호출할 수 있도록 해주는 함수\n",
        "    def __call__(self, state):\n",
        "      # 상태를 받았을 때\n",
        "      # 랜덤하게 action을 하도록\n",
        "        return self.action_space.sample()"
      ]
    },
    {
      "cell_type": "code",
      "source": [
        "class TestPolicy():\n",
        "  def __init__(self, action_space):\n",
        "    self.action_space = action_space\n",
        "\n",
        "    # 내가 직접 정의\n",
        "    self.start_position = -0.54\n",
        "\n",
        "\n",
        "  # 페달을 밟고 있는데 움직이지 않으면 방향을 전환하는 방법 (선생님 예시)\n",
        "  def __call__(self, state):\n",
        "    # state = [x축 방향 위치, x축 방향 속도]\n",
        "    x, v = state\n",
        "    next_action = 2\n",
        "\n",
        "    if -0.002< v and v < 0.002: # 속도가 없다면 (페달을 안밟았다 / 오른쪽 혹은 왼쪽으로 가다가 중력에 의해 올라가지 못한다)\n",
        "      if x<self.start_position:\n",
        "        my_action = 0\n",
        "        next_action = 2\n",
        "      elif x>self.start_position:\n",
        "        my_action = 2\n",
        "        next_action = 0\n",
        "      else:\n",
        "        my_action = 1\n",
        "        next_action = 2\n",
        "\n",
        "\n",
        "\n",
        "    return next_action"
      ],
      "metadata": {
        "colab": {
          "base_uri": "https://localhost:8080/"
        },
        "id": "b2pHwiY1nxPg",
        "outputId": "2e648e67-647c-4e8a-e840-ef840ce48c69"
      },
      "execution_count": 64,
      "outputs": [
        {
          "output_type": "stream",
          "name": "stderr",
          "text": [
            "/usr/local/lib/python3.10/dist-packages/ipykernel/ipkernel.py:283: DeprecationWarning: `should_run_async` will not call `transform_cell` automatically in the future. Please pass the result to `transformed_cell` argument and any exception that happen during thetransform in `preprocessing_exc_tuple` in IPython 7.17 and above.\n",
            "  and should_run_async(code)\n"
          ]
        }
      ]
    },
    {
      "cell_type": "code",
      "source": [
        "class MyPolicy():\n",
        "  def __init__(self, action_space):\n",
        "    self.action_space = action_space\n",
        "\n",
        "    self.start_position = -0.54\n",
        "\n",
        "\n",
        "  def __call__(self, state):\n",
        "    x, v = state\n",
        "    next_action = 2\n",
        "\n",
        "    if v>0:\n",
        "      next_action = 2\n",
        "\n",
        "    elif v<0:\n",
        "      next_action = 0\n",
        "\n",
        "    else:\n",
        "      next_action = 1\n",
        "\n",
        "\n",
        "    return next_action"
      ],
      "metadata": {
        "colab": {
          "base_uri": "https://localhost:8080/"
        },
        "id": "QeVRyvrpssBL",
        "outputId": "499ccb80-5b83-453d-d15b-998179b66f62"
      },
      "execution_count": 66,
      "outputs": [
        {
          "output_type": "stream",
          "name": "stderr",
          "text": [
            "/usr/local/lib/python3.10/dist-packages/ipykernel/ipkernel.py:283: DeprecationWarning: `should_run_async` will not call `transform_cell` automatically in the future. Please pass the result to `transformed_cell` argument and any exception that happen during thetransform in `preprocessing_exc_tuple` in IPython 7.17 and above.\n",
            "  and should_run_async(code)\n"
          ]
        }
      ]
    },
    {
      "cell_type": "markdown",
      "metadata": {
        "id": "WBvVYPQrq3h_"
      },
      "source": [
        "### 환경과 상호작용하기\n",
        "\n",
        "정책이 있다면, 여러분은 주어진 상황에서 어떤 행동을 취해야 할지 결정할 수 있습니다. 그럼 이제 본격적으로 환경 속에 들어가서 직접 부딪혀볼까요?\n",
        "\n",
        "여러분이 어떤 행동을 취하면, 환경은 여러분에게 보상을 줍니다. 이 보상은 여러분이 좋은 행동을 했는지, 나쁜 행동을 했는지 알려주는 값입니다. 그리고 여러분이 취한 행동에 따라 환경은 변화하고, 이 변화한 환경을 여러분은 다시 관찰할 수 있습니다. 그리고 여러분은 또다시 (여러분이 관찰한 결과를 토대로) 어떤 행동을 취할지 결정합니다. 강화 학습은 이 과정을 반복하며 진행됩니다."
      ]
    },
    {
      "cell_type": "code",
      "execution_count": 93,
      "metadata": {
        "colab": {
          "base_uri": "https://localhost:8080/",
          "height": 546
        },
        "id": "mwtH_tezxFYm",
        "outputId": "4b45bc68-eea6-46c0-ad36-f01a0251558b"
      },
      "outputs": [
        {
          "output_type": "stream",
          "name": "stderr",
          "text": [
            "/usr/local/lib/python3.10/dist-packages/ipykernel/ipkernel.py:283: DeprecationWarning: `should_run_async` will not call `transform_cell` automatically in the future. Please pass the result to `transformed_cell` argument and any exception that happen during thetransform in `preprocessing_exc_tuple` in IPython 7.17 and above.\n",
            "  and should_run_async(code)\n"
          ]
        },
        {
          "output_type": "stream",
          "name": "stdout",
          "text": [
            "Moviepy - Building video /content/video/random-agent-episode-0.mp4.\n",
            "Moviepy - Writing video /content/video/random-agent-episode-0.mp4\n",
            "\n"
          ]
        },
        {
          "output_type": "stream",
          "name": "stderr",
          "text": []
        },
        {
          "output_type": "stream",
          "name": "stdout",
          "text": [
            "Moviepy - Done !\n",
            "Moviepy - video ready /content/video/random-agent-episode-0.mp4\n",
            "Moviepy - Building video /content/video/random-agent-episode-0.mp4.\n",
            "Moviepy - Writing video /content/video/random-agent-episode-0.mp4\n",
            "\n"
          ]
        },
        {
          "output_type": "stream",
          "name": "stderr",
          "text": []
        },
        {
          "output_type": "stream",
          "name": "stdout",
          "text": [
            "Moviepy - Done !\n",
            "Moviepy - video ready /content/video/random-agent-episode-0.mp4\n",
            "114\n"
          ]
        },
        {
          "output_type": "execute_result",
          "data": {
            "text/plain": [
              "<IPython.core.display.HTML object>"
            ],
            "text/html": [
              "\n",
              "    <video width=400 controls>\n",
              "          <source src=\"data:video/mp4;base64,AAAAIGZ0eXBpc29tAAACAGlzb21pc28yYXZjMW1wNDEAAAAIZnJlZQAAZoRtZGF0AAACrgYF//+q3EXpvebZSLeWLNgg2SPu73gyNjQgLSBjb3JlIDE1OSByMjk5MSAxNzcxYjU1IC0gSC4yNjQvTVBFRy00IEFWQyBjb2RlYyAtIENvcHlsZWZ0IDIwMDMtMjAxOSAtIGh0dHA6Ly93d3cudmlkZW9sYW4ub3JnL3gyNjQuaHRtbCAtIG9wdGlvbnM6IGNhYmFjPTEgcmVmPTMgZGVibG9jaz0xOjA6MCBhbmFseXNlPTB4MzoweDExMyBtZT1oZXggc3VibWU9NyBwc3k9MSBwc3lfcmQ9MS4wMDowLjAwIG1peGVkX3JlZj0xIG1lX3JhbmdlPTE2IGNocm9tYV9tZT0xIHRyZWxsaXM9MSA4eDhkY3Q9MSBjcW09MCBkZWFkem9uZT0yMSwxMSBmYXN0X3Bza2lwPTEgY2hyb21hX3FwX29mZnNldD0tMiB0aHJlYWRzPTMgbG9va2FoZWFkX3RocmVhZHM9MSBzbGljZWRfdGhyZWFkcz0wIG5yPTAgZGVjaW1hdGU9MSBpbnRlcmxhY2VkPTAgYmx1cmF5X2NvbXBhdD0wIGNvbnN0cmFpbmVkX2ludHJhPTAgYmZyYW1lcz0zIGJfcHlyYW1pZD0yIGJfYWRhcHQ9MSBiX2JpYXM9MCBkaXJlY3Q9MSB3ZWlnaHRiPTEgb3Blbl9nb3A9MCB3ZWlnaHRwPTIga2V5aW50PTI1MCBrZXlpbnRfbWluPTI1IHNjZW5lY3V0PTQwIGludHJhX3JlZnJlc2g9MCByY19sb29rYWhlYWQ9NDAgcmM9Y3JmIG1idHJlZT0xIGNyZj0yMy4wIHFjb21wPTAuNjAgcXBtaW49MCBxcG1heD02OSBxcHN0ZXA9NCBpcF9yYXRpbz0xLjQwIGFxPTE6MS4wMACAAAANi2WIhAA3//728P4FNjuY0JcRzeidMx+/Fbi6NDe9zgAAAwAAAwAAtTi0GMKAOrZaBwvZBJ7+wwAAAwBrEb6H/QEn0BY4sFYtxjN26u1DhU+Z5hB4ffLsruFZ1CzTjpCK3VktJsMVG4PkMG5r5MMrB+Uy0BGtZg+P5LDuyDNjMx5o9Z8J9kVqK+O/QyVFXs6Jtcz3HvIlSriIK8rS+G8DSfe2oQNXM6gkvqr3Fffs93uDwZvzVvXb9AFrahlkdxNRx8k4lJAOJlgGFTqryjEyKfBvg8yTxftuXERB5KAADTLRrcGgAjP2NxfVyyl1C3xYeFEnNw0TwHrbE9Gdmhc/xQdAxhhvRexoLQfYfSyfkh9cavDYofbKd2eke8ByGW2jJmi8DjOkrsUmWlIYGD14SLzjuii54/dBHUPgdsBLCsVjHwlqcb4kRweYJAeEnWPYSgmrMJBxiwA45k5VEiNJEInHNF90o6L4JjlA+aaM3/Ka5G6Vk+uR35Cp7UkawY13Z/ApFB1KygsL62yptCLpDW/MMTuX6V3c9+Py5yJeSPRREKGyw/MUiCEXale+TpTpbZc5OfUAuLrbgt1KGA/fI/0/EJW7e8/hGXaXxS2JN164bGoBthZmT05C+7gbjI56fEZLoZ4iaNFwmmjfGRyCn4DO5RvukosYYNieD/xJlip4k+0mTyE8KtW67zWqr0kQTGRG9wsvc/enhkTJ6HEgLyFvemCoezhvtIzyup6L8Aj6Y7GiDjRD1wEOx2DwyLa4IfOkVaJ9MBVesl9UKD/tRCSdtt5iLm0vpVPExJ7TC9rnF/dD71Go6xUz+y2lR4DCIRR17Iy+wB6lHp7D31nyO7KXfMQ3eoaBs2Or7LDLVpRrHrTaodiYi900+1jbT66c2KB5l1kcrYZPLgOBPpKsiA7GYny08YZKet2MEkAAAAMACNvKzzUYi99FJ53ALyWwQIn7qI8IyUAD6RGiGRDl8lJp8HTgC7y9oYtqCF79/m9xEA9k5wyIpEY1/LPJ+svJAP+8BQRd0EA4DR23MzzjGTQ9WbLO02B6flf3q4GVRcwCRe1czuCbSsmGJFRp47jli9eGbv5KrBW45S/VtLh1zVW2jS9EJMave5rSV8Gs/qESAAMVA6bPctMGdd+vmjdcXODmQqYNiXMRzSKunMhpRQftl+wYANgmNn9kw+r4+0DCzQ/tITL/bJ1pXIOPFVpz3+kDgpY1jFStt5in7k7/SpfwIuXvelmGMIsdu3xnIAABWhLBXQScYxJdsrgU3HgsDk1Di/xmlWRcLDGldzMVP9zz29y5upwpliyeR9B88aKdP6LBpc6uoR838+TfKcgJgXGB138rb9+hIx5UpyGatzFLOTAQY3g3fEttZhEAPk1KCAPRl7Aj3Pvhj/fLq9jfwKDGelxZx+pNUWlkA9NlAaSZD9kBddgT2w1XoM0jIIIPRyxiZ78XAAE4+4AQQivb9dsL4QOpUc7uI3e/usAdjJvi4Q8I2r1RXe+lMXFFqLh6Tc9vHmo786ngWb3Qfuoteo0Cr4lb+2Aiom507TVccPmdawu9bH0A+eSUxGcC3slobuyxBltTfqWITYPIMOcz4cUQy5LnjGOPwHjxuLbtmfmvcR5jgwdGE92F+aOB2pfE7fRX8gRgBigiyHV+DO2LIdI/S50BhD5tt8mKNG+XXuViYaTU7zl6tII1o7ad5A4+tVHcXJBuMKg3VAPykgDGc5N7X2yV5lS9V0Vu3NAsm+U7iudW3Eyikf4wlNTlW/5LEMABlCm/ZR62dXRREmsXOfQZo6GiM9G9WQpJemii8cvKkww1QHoS4nQLjeY0RdkghWI/iKND7A7DANgSthIkuqmkQaYUst3wMcJQV1LsVRWAjYFuOvTBgAQ5IpbxctdynZbH5OVbREzsy6soaYsIZY93ce7uYSn9YSywk1ZyTJ/w9Gc54tv/2FRkXMqBl6l5gOCtFNV4i9V1UNe4CDnBb6GIWbJY5eK8fRk9lDQCoL0a7Z0CxhA4bQJhyOewBwVNurgQVi0BS4jo8RB83bXFYKAU0dM6wOBrOt1AWu0Y4LaT8AqzvoHWs9zX51x0D1utMB4Q5dG5+79yyNcRxN/qUhk7aj8RRNx9T7OP3Fk3k20q4OnIKqE2SH/7CJLz6BnBNUteSdw73blgLE+V7ZWff/999R+BhALt7vZKJPNmq7+Ogg8JNQgSIHCEalbMfoX72/PBn8cjy7XPThIcybK1IylGdnJdVrQF6A69yVvpYt55riYdikSCIhFG6nGzGcDMtF6kOAZtnPZsN/7rwwL7+3lT7OD5haEABexRZMyAOnzRjjgcqwAnrTnE1cliFOSWgAB8LzOs9zd3o/BBWyLYDL4lfyBqdNCH0ejXiwCEcnACpZJ+o19W4RfxZS3uQ2lvGry/kZCXj0pEcurpR8js0X17bCA1Xk8PIrTsLZ4eYsV0PQIGwWg4CYA7KoTPztiHV1CC9ZMylShvk0Dke8kwSGuGnzLO2sRGMNhFJ/6g2nk4vNGbcdwtKmCMOwAXWbA8uulUHMMJZF5g/n4iXfF7m97IZ4OuXlyjYEylTzrABuL9fAAACVL59NCfKphw9AOIkVHSmxKFUtVkrNAqoQJy4a70GMYHuql8pFtRLywnJy/oLBBm3c0V96h1eZ5aLEyl+Dt5nrWCe/NA5mhQBtDOT6fp3qdpthWojkKcWFM3+2j1yOFukL7U4d1i3XnAHe1/4gDxw+af58of6naCEvbEjCSYEDyHGV1trD3s4CmisNG7Cio6YnlMUkuxyRooMpwASAUn44/aw7Kl2uFzFmPYh3p0Qu6hscTfd/1cwB6qOO9xGJq+//xGk1jnoT87jNutQ8DexD5hC7xMcl9oz3Sad6OW8MzA5Ezj6+XFOsFr6DxHZHLy9nK+Gbhsip7CZN983QYeujvO16fjS6gJmvWraw3TEtMSmL6Y8ixOrE/p2RBfXETqGmBRTVHWD3HyXoOQYAfo/PgBPc8dThieP7fKF+PsRY4FJ2Mu2CO70AQMzSJvMgYV02O4mDxZz3WovTTV/7C1hcrBgW9M+MY0j1arIND174QyUsz0sAqdCGVgQt+rwVTKaq3pdG9e1LOTKPCJ3xkL7aX/OZXfOiDOWSeqNOgmJXMWU+qOzcoAcU76qCX9HacggyctiQOg6xc5JXRECfrzWcJRi8q7hX3bgT84rB56AALrnFz8bck4ZUASPSvFO+aGq5lwg54lZhH7EnJlCITD9Im8x7j9uhrk3SCI1T5RDfuyOm8rjfx8ug7R/hpwZdZ8eIuMpILdiXcguLE6lMSDPFqWWAPkOAjI4YYXwDWoT6ztNrFliVGEbZHTVGjD/7bh/k4FC8m+59HbjWNYEpRJLG2I4b/9zn+NHroWi2CC1w/yD8/5UaczBSSADNZxc+EDbV7hAMq1Nt+fz0K1qvqAvnDJv1zf5zsNg7S5p1VtDwUspsNecat12ZMGy5Cdy5irrEI6e5aZBN5Y8phJq95PENvCp6Oa/rZigOPqzV76Qlgp35VVeg8De37muqvYYkcV5DCTF38j19NGEc85Ns2wKiL3l21XMZNlzC3QsT5PMfkHh+XljxVeYPGq4pKINVp5VczDZWnudyYcTae/awDPpqzSdbqNpUKQUvPD4bkGrkAPhTB7pnIAqkZRSCUBNnG/vsgoH1v30gDTiBCZC5fEa61lH1YS043atlKbYZP+f7pnIBsjBU0VTRyuPeL3tL2k+EAACyJxX+U1ngVg1J5+ZrFHsd/CEyhZ2p5nm6QxFeek7Z/e2a4RHQfO9HadpIkOOyIXGIPXijyGJxfyt6VgSUReq/KxD6iYbwwoRoFE0U93N64FnY6ECi535nb5mYs5A0+V30Nb9gWl8ItmAPDQL7l94Lq0p/ymndA/aN/ElMS8Ny5Cx1yCsHx6aelTtSVWw/XUGljkRe81WTSKsuRO5XMOy/p6WBnuCaEzCmpxlNP8EXsKpYdzkRMAJ9lN5igskbP3DpvIUbdPOCLsUmZRiu2Xhxsit/Iz3uo65VFHScYsL8AtYAbROT9/ORdWTBJALzrhsnxKOuPJ1VWWwOjt8Yofw7VFKScfo8pnl1gR+5rixoH5ktRDq04vTxH9VDpNFMD4ahOMD4urkCv5P8j3FXeF10e1+yL3ttgcyHxLF9qm1cNpwN9yS7E/ELgFPqR1w0LVCZRJ//7QBlJwneu6uCqnaYp+fAAokqqqQ4o94yXaqyHpmPAaU1sNC/23zRx/HHqgp2fBXI8mA5xPyfe0dTtKACrXgAhlGn+ynIhLguhV+tJTpnTCx7HU2uzEE7247QP24uNY9zveR5DnNGI3twYO3juT41/0RDxKdx3Ek/hMMae1O/ZQHojgTOu6PRr2nnzMN+On3uC2+QjDzikNSsYZFBRH8OV57JSKhKsPbPWNrQRyw2d3FA4UyDzklyZ5HlbCdBAWEPo5BN8mLddvyfRrLzK7/OHSTo9d8RLADbvwJHrH4Bp/gWnKln9gO0gh1WsgABQKIRT4+ZuUS7YfxvlRUGlXSItAxlCpRljtkYlNJeFOFG+BV9en0RP2g6zZnejDFhFTTS+chy8Yawvc6kKSc2LMUlYOnMAAmxtSMPpMrYkGgDhhAAABOUGaJGxDf/6nhAACjhFyAao5/lfV3uS80KH8ojFxeqHvWUKVgax8cPKFbxXGIdxIsx2/a0yksIxAqYe+FXJEmQJ5cwI8g+EwK2XDJy+JaAyRlphEllF8ZZnGlzUki+nsFz/fbo+gxwxgH51aQvKSIlacXV/DpBelZaHy7n+Kr0SdpjkNtgBNj9lLFEEGdmgaENj02RQiHB+45qgSICfLXiyOXyFEd6FTnN7sMHZpRR5K69i3zQivU2d5bbxsGmpzSgu2i594rFad48C9aN6BGAdhJZ24e9KcIQgoFVtazDg5tg0PS2kFZv/aPnbk5zziFajvL2yj6swLa3GFg4FLBFJii3aXKoizcNan7dfjQr38ej3BGl52T96kx3GP3Ope3wg5YNDFoRkTalE9yL77PdVjpTOF63PZ0EAAAABeQZ5CeIV/AAILI6bwP34sjezVrLvWo2c67uoJMAE6EvRIrphdjHPiLNsxABs/CvccerEjPKtodMaW8e/I57Rv8egg3jBnxmQZEGt++lQS7qhxDoq6c7rOIWPvTHUv4QAAADcBnmF0Qn8AArKMaAAw+yOH4n4npsLxj9AA/nbaO/zcstadAyH8n0iJd4rQJCbYPsg+PsB3Mn+AAAAAUwGeY2pCfwAAAwAAVlJ1KBAAIfj4AX+KCEf6CmZwJVJ3i8ZcV3L710Oh3lL6E3sqVffBQtdP+/vS9FVI/zB+/sssN61q6F5gigfY18AGjQ8a6Y2BAAABREGaaEmoQWiZTAhn//6eEAAAAwABP/d7TTfXWEgaM0AHMispsjfSdgWPByCGvMQUMM427SkBiyaNKhi0QR7GwwclwQN9LNlcm7Zeu7r+Zd4tTPN5RPrSj4v9Ao77HpF/u60ugtykNWRHDkoa+kyqR0BxCQKCemA0T1BFzrDMKLbOg+Y/nJ9WCU90bMI3BB7RqnybD6QTorrkyOWR/qbLdia/Ar+0cROt+3N/73AcDC5nnG2K2r9mIolqEgO3XDkhOvpxrCPWmvMfvq+eX+Jh+xGkPwInRCd0VUUFnOz+eu06d3PrguOhxZDjIpWbZ1rtUAbJhMDTHXYyZ5/IKAgZh3TvJ5dix2HoMLar7GxvPJxoEsO/cgNFXsz2Xah8QqvMsdNQFZDBMjjqz9+WSjSwcxpVohSlleGmoRsDixltt1Imx+IQgQAAAI9BnoZFESwr/wAAAwAAQWP/f+sT40ACdsXjCldwjlf7a3QwV2eFcyt7PBi8sb4Aj4fLPTUVFL7O1nJQKbaZHasqb+ud0PUad2kgCSxIf/NBpPl4dvagvUMYedT6N39s/hyCOaQsg0KWhNN2tZKaJ4KT74YST/9W1UXOKBCptKwq87JZizuqFc0tBsWdh7xp4QAAAGoBnqV0Qn8AAAMAAFZN2o1WYql77msT1LXTHJQTnAAL1BWhE17sZ6kmJGD6HPtLGe+OFYeLYWQ9knStUe24ZQhknBl/Cdo4NpGXlpmsd13AVyPbxFjRWD5jTBjwfpaNrM5b7Ui43v1Ro4jBAAAAXwGep2pCfwAAAwAAVllIlTp5qMth3CN6/co1u8KitdKNfAA6zDZ5eBt73z1/Q6iPRKnTJ3c0ysUjCGjTiyJBys6Eqkt/X0GxBBqo71a+pmxVx27Ygbod12QGHzM6I7GfAAAAu0GaqkmoQWyZTBRMM//+nhAAAAMAATbpvR6Jflm4jvf4PsbyJkAE7eTMqTdy3DRFDrphnzjMMd76GcIvgwTSakjlocJMw98WychiOj1ENceenOKS6AF1wH8ZvaZjnBgkrKO1Nb/23OBMGTAYc8hSM1is+wU7uEqwu5QA3N6YFNVGIIAS1pE4DsE/S3q1SGUNwuq4bXd/X5bQB2y6tdL5fbjVK25y6rEqwUd1H4GcU8lO3/6GKMWUt1TYw9wAAABgAZ7JakJ/AAADAABUAsYz4gIN5Sh1S2p5m8t3tAAWlHyRjh07BH/uFgsvJykxdZMlAuuswc6w9T6EnGC3Sm+Aei77TGL+McaneFITln6dQYihrRcR5/Ja3lEk3lEV3EqBAAABR0GazUnhClJlMCGf/p4QAAADAAElrTMPQBAOAVM+H4zVmqgPTV8X5S49YXyaPfNdp+WmunnfVSeqhT0Q1FGuHPl5GCu2N88bDHtiV2ej2flbEZVBvHRus9o277yDjIGfenGLGFN6IyqC+DqBfCw6OcQzgzOXdTuctt0C2bgzjyPxvBucMlee7OfKpKyx1UDRFxnkkfz4UH6fO5kvg4klXcNX7zYeMQ60+Kex9IKyYI6zNh5KH03uHzwTdPtvXFUsc8cIq1eccL+Q7dq6WZNLVF2eydkGqytxy4oeqK7El8nD0UZOpzmXED49cOZ+H2nyxRwttINqAwYZ95NQvM2AsYfX9QPg02IWhvyA2ecUx69m6nfkPKNO3SUjkQemZZ+31eVsaaIaPQT23YamWhFUBcgp8HaY90TDTYwXda2PHeIJl2Ix3oC5QAAAAI9BnutFNEwr/wAAAwAAPHokshs+hY8Wy03cf9qILbjrrjjVPkWy/ifTKwAaiLIbZWzv/7Ud24DA4NAGi2pMJODU43K5ED6CFHFQQNdGP6/KYkd9DrBcQBQZu0WIAl1llybnY+CKIJFkJJmFMBYZ19JpA7xTAjQs+grWXlBOvDiItWwwHlWAdSvsX+wbbwE7MAAAAHABnwxqQn8AAAMAAE5+0u4enHYAgF4+EwJLPdcVLfBAA7QUpklLJeO1Q5NlXbDhTDo250IaKChgLO7xD/sBCEywygjqg6cA4GxOsL8WIvrwU5gPw8JKmmq3g5p6uzlDGon0A31xLoVjA6RSYnjV0CiBAAAA2EGbDkmoQWiZTAhn//6eEAAAAwABJQ2mHgBQYedfRAMzDsNWBMBzmr6mPutStNzpSSqg7DNFex6EMVBqQ+ySX9W1OKIrhGINhNi0+d0IFbrYzNLYe17GZPXaAw1l0muUoEXzNOA1qQT7hHY5L3REl9UCSrP/lDjggV/W28Y2C/q0+3tDeJemlaOk3LnbxMcRxGvi7QNL1lQUZZstE2Dp/2oeEA5VpGefISugpj/ObaG+xLIShXogFHBkvBrgYTRUy8pd9WtymYjYa63J9iS1iAYvqL9AZq+/fwAAAOVBmy9J4QpSZTAhn/6eEAAAAwABJa62sLABGR6rMPG2r7rgMWRNNoMurRJSCZx5rd/uND5ju+O4UhyOv9Ea3qwlZXRQ5TO3lV1ikXyRzilq4BdvkUz4150Uqj1Ob/jnCW+duPA1K++Aj3NnXgqX73smQUFL6dQa5c/bh3DofPXohgRwCMv+t7EFs/hQ4vQUfOi5sgUFpcQLelVa51ayTw0AU50H4qoRr2q9x69xJ9C967RIbu8gqrTRBQkPathOSU1SpUW2gRI+sEjQwLTK6Q7IUy1LAaI/3Z7QVXYBVgmk2f1P4uJBAAABV0GbUknhDomUwIZ//p4QAAADAALVlWuAL/bnazMeWGYNx66aRVwnjLlOiEhBocl58AF8jwcBAHYlrIE2Cfk3h0l3nZW048SaXNaE+tM+naGhXPVF6lhPdBcYTm1CwRYNeEE2gGPr6iErHdu/aOWV1bpGBTnWX6rrbXOwVqNeiXaOVuwHpiAoNSqJ965J9VNxkfDISZUIhzpBTDDqFhZ2Frmz1axPStf2j0ROsdWZAlZHBMzack25yhHycYmQwzene7DE3BSTlK0yww0g+NPJlZkoKVeTpUwHxvIXDjRtOZoTUcORla4Snl/r7OyT45nTZR8ivQUKnTE+Mw7RdjvtZmRpAnbzmlxkqKe77A5QEb/2RjXNE2oeA8k+rozb2NAt3uRQDTCv2ERhnKEEQH2GLNZvlVPjaOZwVuft3/uYAT5N+MxHCqPeGgk8mZ5vm+p9mfdPAbquceUAAACUQZ9wRRE8K/8AAAMAAJbr/jTxNbfgr2WhmtAYMp3q7r8GYvYSbm7AAkhGavah606WmolF8CzyP+UzJ+xufEgjCuvbxBxfsTl83BlY0ysP6Q7q+RqE3lWECunpzUz7CAqTQ4aHh877G0q8Mhavhqlm8tHtsNRm45rOyZqQzL9H4GoAgP6r4pPjDjKH93r8BCspksyvdgAAAFwBn5FqQn8AAAMAAMQ8aX7vUr9eHeLnBPFP3MKERSlEP0ccHljtwbBdax4oAGlFX1Ns+Vf0mCg7TQjCClt5FZGSei2CJa5rQxf2a23pJNTJyHv942EKqDnOZcZA2QAAANtBm5NJqEFomUwIZ//+nhAAAAMAAtainNkhRGxZ0z9iy0wAbUbSDiOWq11OFOTaS6vv2rfhsXKOxjGXK3CSLBRsGW61FTF02mZRv0ly/YMkQFQzhfn3Gxjk/R54lsPqEIjRA6lb6Xtw0rrB1BC7dhJE+1ANA91YbfI6BHZ+D7HfpGiUYTOj+0MNim8HhJH+lttQCxai1uuLQGRvtg5p+f4pzem/l2j2mVQZgfaOhHbrtkCes12nS9wBtC/aV4g+vqNLlSHBz/LMYBWzW31tWPIH9lOdMwNF/+A7nnAAAAFRQZu1SeEKUmUwURLDP/6eEAAAAwAC6BAXIK/14LSNY4bJ3HGgjbDV/hmWuFUYvPSnqigyZo7bIPMPLwJwpvVjj2TFAzmssY7vmB1Ob+koTNsDftrz40mOnIISylM98M4xb99Hc857zNC4GVy16RVxfW8hTUQhD4ijw4ObOQwiimNEDxQ8L7RqH974e4xNCu3VTmRPxgyDf0mtHS03jWQNM5ofaTUkmza7bJ6nO0sHgLXD7yU5hkkktrzvtABlfuJtMlDB9K8L0sbBmgLANYNTM4vJ23xuGnw+hhYlE2a1+OERS2UB9vz8vXO9NUV/uYRi23+exLl0Nl+Bd2B3oiXIffduIDft1H0ZVh4setewr6Kwh+1FGyFY49i1Bv2e8CoHD951cIHGBe7R9J3kbE3U5ZQdlkD2a4ZvOriNIjJ42ocP2eTcxaG+8DTosHX9+gkuTgAAAE0Bn9RqQn8AAAMAAMcLPLFjD1MGrlTJIxiLorDJdJvi4BN12vzvx9MfN86gA5l4Uu9T2Zq+FgjkuIqwMSfTOqoQNUnr8G9osDUb8FU+1QAAASZBm9dJ4Q6JlMFEwz/+nhAAAAMABzvUzyhhkAFvHqsoPX+EgnP6AL/+kKWwkNA29Q2WbkrodDsIjuGjGxfxkNLxw/NFh53vclgmhFNRTUkijq8PmwT0XwrU8DBGNx0zy2FqhHzl+QF4FAFfmojteCbODcEovp+TmuYMpDbYrz6xUCgY6J3vUgTpy/TML8BrIo60dI+LZA9UxyalGDLStqGQEHNfjK2Vm7FuGF5+aIKcG503S4m/IUMGZntfpz7628dpXzKAWacG6914m1lYcAEd1eJVr7aUxVmZ9NkWErE5Yl4WEHQUvWd6pVI9ZhVirFgMAH1nXDM4Qmi6EzxpeV3TsRbapmj7rsRizVA/gHZurtajUgm+9DRQt7DbiJL2pyPW50Ag3bAAAABnAZ/2akJ/AAADAAHw2FUUJNW+bc6GPbMTmv1bLadujgkMNPLmxXwEfxggWKWwAQ20Egu5Fd+O6QJBimD8v7zFZH/vqIlSKgGA01Gnm2KDjqIJbGGg/qyo3qUoMHRvJ4b0bhQcrjolVwAAAPJBm/hJ4Q8mUwIZ//6eEAAAAwAHPwCXFx+9AAiA+gceLxh5IBFvzVZnMQ8eQaudWHrUCk6GBp+XYDI/N+pYQdh5jumtNr8n4xXx9tmqTCroSg+CG5NuAmUnBs5uSyhIHfCbI81RrbeLxGZQSOfxYZYAbf053xuZM70TM4K9N/wKrSuqsk8wtDJVf0agptnVwdymD5+R2NJ0p2hnanoM/dD4NC28yaNsDeX+ytr8FybvC3rg4IyjkHgr0eOwwMT756tIrwvsx2gLF2RAwRwn7NDikWNMquWP9WCmxjr9doeswsXWtMNfMnR4VV7lCSuvPrN7gQAAAPlBmhpJ4Q8mUwURPDP//p4QAAADABLRBur9FZAA3CqxSt/LDnt/M2iekS5CkNCVLqKwEtFp4aJ+VnbHs/sx42dm5M1yG3Ay3xGsE4X5Nj+swvYq6XeELvlJflmPYnBQsUedb7dwiXUfxm5KUrwvPtZwIfGWOS/9lCZzhnkZ0LkcwAhZv0HE+nwyP6ozkU61ZjhuKNdxYas3ADa9uAialN0ZzxTPqSumnWMN5zeAduowf2v7zs9VhbrCp+eyVojmXr2b5H/iStwfBTx5CulNv+3Xb1FYh600aRa8NPaxyi6k6HJze1FRT4O5XiEoAXRp/v5wfrBYvqtKRd4AAABaAZ45akJ/AAADAAUe3WmN+eNPIKIbaiiYq84dav+4OjnscZ507IIAH7pC6b4ALWHbVdlq2uinDDtTc86AFXP6ZJ1x2WRTeGFs0lXRwcX2YG/bqSq0QV1xDzHPAAAA30GaO0nhDyZTAhn//p4QAAADABLZKa+XATB+QAgVkce6zn+gQ0rg5xK2KceT7et2juQ8h/RIErfVFtuP98kchUj3ek5J5/qm7nw6+64VV2OX4mi0YeFq/1Z1I1ZVp4/vAlfpAgTABVVQgYzbLL8cDFkdjuFvtRT3knIpHIogqu8d/fgkGVbQrEW3Cz6RuwdNHtW5KlfqCeUMxRYJ3L6Rn4FXKU+3s6O+KeU2hL9Lnc5Sze7W1R1rDLtoOiOFezVnCmkYeHCV2g9LVHS/Dl1UgIi/9qr/8BoQzRLNO6phFsAAAAEcQZpdSeEPJlMFETw3//6nhAAAAwAMnr34G6sAFJuS7q//bd9jXYFMERa84fKn08eV/lZhJFZZy92+2P/VxPaEVXb91EEMex75SMHaG+8fYUk63NBObi1Eukv7y5uZU3LiOEmGWEcsy8khWyPMlWRwRMra8Q2oJLpAtqUuCuSbgsHxOdAGLpb2ENWjFW6oSUe31dQtLHl2H/UF1hUZduSfZM1y2rqahFOls6SyrpcHCvLd4hKz/H/AM+4UOES9N/rhIYLiQvN23Plc8NtCTj91FFm5jYG91QB7L+oBYcnNZXZpK9u/jF29W9dvPruX8dXR1yGNC/8moGRYtnFruRlLTqoIy6JnPA50ySPIJKZv1Pkt21SZCuxed3I9/mEAAABqAZ58akJ/AAADAA0zxnJhkr9VK+SxJHqsyLsbzVz7cM0R3j1Sa3eAC6Bees0yD2lxhw1oxPKSxOF+KyyD3HGZR3F35wuC8QVq4GVu5j7LURSCUlFrAEWciWFoy09zABHwzTD8+BmKqvu6vQAAAPFBmn9J4Q8mUwU8N//+p4QAAAMADIuisEytAAQ/WhGnOuoVRAj968YlpFM5tG5ITwWDQ0RGt14OnNTc0IXykQIbVfvdECgku5FmAGr8hC6Jzu5PHFZjvq9Y+cA7+iCf0ZUQm6Atzn8PpQrhCZWn1Vcn6CW5cGVZ86+T4yzlIsAnoeuyUdL8IakolrYXxZRb0485F2it78WFBXDkSB29YCG7ZuKQiWTiNsi4Mufoo9kuswShiwubdOyc7nHT0ivRMSTluMl/zgp68AAmt1eYamXzlUlyqRw3L3b2ou0ebRnRPxqg2sU1m4Qs6J4i3nmBMJqzAAAAXgGenmpCfwAAAwANL4DQ9A2ZtuffM8YYzmsQP2FqACH4+acf6ceuvG5qVgKV6/+Nba9skdaG70elr29Mpip0aECBFjSXdkxPCz8QnfYFpH6YVXPOiYW+cmWZeHq9tZAAAADVQZqBSeEPJlMFPDf//qeEAAADAAyQn7cS2gydxuq5k4O9IASESnDhOshHfziT7HEsmOUA4bvYKv1n7PKYgJ/CQVKtOoUWfngzlXcpY6Y5UHCz2HjAo0TD+zyo8mf/bHvpOfeq4EYAhkzHBG2Hd7qsWCL69YfmXRjHOKzl5hqIl6BTIsodtmah9iUP+AC1fR4pQIXPGLYrRK5E5jto9B2J0dUedCvie88SVJxkIWOerZOEaTofyaDU/j+Mn+2wzkO2qp9c+fYNnBE140O4WlzHIRHxau/9AAAAeAGeoGpCfwAAAwANMzN50P0RSTbBFG/dJXE78/NphYcAJXm3ws3VRsU53g6RikE+9MxLi15m3QGPW0rhM12Tv3ysdSCuk/Z9Je97JNOnO5hOC1+qiqUuYlU2K4m1bHbcdNMeXzBy2el751i4PvQOYyQfY02BTr78FQAAAN9BmqVJ4Q8mUwIb//6nhAAAAwAfu1vK05VP0QIACEqsCmv9OP5zOsdj2IWt3WwI1jRJycOs8Dp/6T7I6OaGLClJKSHzTWBSGKtL/grS5Q1gBoeZgAA8RB+UViVw4lDdARzgQ4HUjMYetxqrLghmdHgzkXoawKOCIzdoQgEguG/PV8WER9y+/XNmnCgpn/AqIZ3q2c05LtKf+rb217JKTBi6rxywo6PnSuispeY8fLVjMVCHWk3uRKtTW7ebpUZKQqy4IBrZxl5P3smoYwq5UsZv918BlmlVY0gtCOtsO5vXAAAAakGew0URPCv/AAADABsHQsgYVCKdOla7P8LRgVizhAWLoLAA7Om/7gh4o/z8vxkRwuBvh5OTzTPi00a3LxvsauSHaz4dVqgLNKkpcUDop0l5EqJJU6Wcs8YDV7ffnI4sJn30vg633r+LhIAAAABSAZ7idEJ/AAADACGrbRGev6VbxM9KXH2wqn6kOXC50ABO1hzdEc381vDT8uF4rHiOksVrBs52T6giwgmPzTTwVX9SfR2IQO7fB3kuvC3l6m29YQAAAGABnuRqQn8AAAMAIa6JRcm1hxe7MqPIOUJqpPtHBwAQ9szYUQ3Y+IazGq31Of0aOymx+UAUoV397XSn8os91uYoYAOqjIwaITn5MWKFig6rxzOgeXihf/LA0PpXVEN9ztEAAABPQZrpSahBaJlMCG///qeEAAADACDdN7WO2ZIE7OB12Ti620WIIfYWl2qNNvKHaz38Yg2JBojc+GAmQbCpf/6Rj2TQy1MdfhJfq+pU1BTUgQAAAExBnwdFESwr/wAAAwAbAf14jgVzxLspB7BAy3mo6VwwwADrDxA4cnXGg1md9K2/gPx+GmwPVn0YgbPacADMO3oVCN/HG1vw2Nt/3r/BAAAATgGfJnRCfwAAAwAhorrpQIAA7PBKXn00jPJZLoiEJp6vxwvcGaQeEs/lp2mc4WvYWIkxIZ3UD29z+JZ411hBZLdBoNhqpKOLZT38w6E1gAAAADgBnyhqQn8AAAMAIbtrTCSOKxYYwC6EYOdkQAM9mcSxJsF3fzC/NA6P8NZa/rO727TitE8CMX77oAAAANNBmyxJqEFsmUwIZ//+nhAAAAMAfLhOknOe+gQXD24AAFP836CFQRsCCUeDlkIk+NzIp1T5KrJPivMdg0/R6FSgOYMCvuAXwXU+x9q3UuQPg4EvplMSOeqV/H+Jwik+MNKbBrc4jELwCNr2sMba6AqQQZc2/nfh+/Ywl0P2UqirLKFV4Lryv46M+0RB5RkuEooofd1To+1hFR5QPf2yYR2Oy6zSSpJYvivMpz8BFD3uJ0HWkPFf3nZQn7Kh5mXOEWBoTgMO6XorNtXoIeTqYHS0d2IpAAAAcUGfSkUVLCv/AAADABpZ1ZhB3uYgBCVcrvSJHlx1FiQZERrIi3NvIs7YYl4mhPz6b81bDyq6Ut0TsU/IyzHuvF21Q/UO6Ne3ouBokJyhZ4phDK1nk2NKdK6lLJZt+EYHYqTizSfhD/Pt6B/0qh7v7VOwAAAAWgGfa2pCfwAAAwAhuY4IgWlvYllkB3k6R7/MSPAXEC1DLDadqglmPb16J68YAQp2agmPzqAEghQ9gJJ2gyYk75cQYwkKPdxvwYhucJwIfyr3PSwr2t2Rk4e9gAAAALZBm21JqEFsmUwIb//+p4QAAAMADJRPzkDhqz8DkABTbIlayykLfyiAULArsSOrEBYVQu7RIvB3H3a9Bg2glYDsVDeOjzwkxoznN+Ol7G3/L6fRBXnRey68WUqo14yoAj0a8TmYsZNc0SDRdeMIm7nxZum4Ov92p+OGyfkBhvNqtwBlp4lC0FgXqDHTqiaN3r8ZcIEwLyxUVqSsC47pS0VYIvg6ShopN9e4qg0aOxjTkp0r85uXwQAAAO1Bm49J4QpSZTBRUsN//qeEAAADAAyfwFW1Ekhg8hP3rmNIALUMpKAqYO/PlrizEM2gEtIghGc5B8supo+skfYURlWMs4ND34L+2tGzWQOZ7ZFVuyzhVFfPzXWNdFklKvZTiXkBoJNoR+hWVwZiY6GeEzdnyxeIHT30yq7z+T+rnFJZJ/Zy1mEPOfN4cmJYs0Z8a/JmE8+6h9AelfW0hk5WElbLwo/GSkseT916tr7N/vUOvxXvBizYk3pcI/529VasBGy39tGKRc62lBjPVCrBxbuBbTe9ZAXZD4NEa8WbpD/YpeTYbAMmY/TMp3kAAABxAZ+uakJ/AAADAA0wmSKuXY3qYxwR1a+OasXBwiaEvbCykYpLT9ZP/cml/NHzKz3DaszQAmmWfXQFiuGCeP3kW3wbV9+kAwux4hUu4TKk5+9sBOW8/VvVFxZuYltU+CJXvOPntXMJGopMeQ6to67e880AAAFYQZuzSeEOiZTAhv/+p4QAAAMABNvkat4JK5Fd32wzs6L7oCCgjZf1AGbqBZnMimFWMxe8zYSVBes35ztv8xFwJilp/5qli3P4JHZCgfuc4C9L4nJIMPHw9oP51dGHP2DdekLrtVp42F5PqXRpmuP7ZPJzO/HLcSuJLPtSzvC4fEAtiYX5VqDOVUaShsrreKxeE8Vmm+Q1n/BRCbMBD+nm7LCKaFaWWu6SkpislVLh/rhM/1WZjfn7AJj8hZUKJs7bjZcX43021Ck2xLfcAY9tdz4Gm8k9EVCCeojpe9HMQEcW/9K+4CMFf8003TUkmSfusDJKDskm8bZEkhJCVfPrq2ToTCbKhCkeJAdZ8B7zSh+u+EKNKIpD7kErgEo1X0Af3lmPJ/SKrbz7c0uDRTvgSVgz/PkTC49TTlQRrwLdo2eoLFHlt3JydBW3sldv5DMxYup8fX70ZuAAAAD7QZ/RRRU8K/8AAAMAA/ld+8PNJ5ntd9EAF9eW2ytGWx2aJ2LDgDDOppIOVaJXxPc2TrM9+3g+W4zlEHz87cmFAy6k1UisY0u+J0eQKvbQ/pRreCFy0pzWbO7qBhUsMOCaeN3n29J+2AA2m0rUz+hU/Eu8BtirTNm+eeVoy3I8+akZYBRziLnlVt9FgWEoqiqtEkBpxKbfFV+lXs1f3yJ2Wbg9HA5sqTMImYAWxOtltlhuH+YYCHDKwhVgk36LPsdoSsOt/7bn+y/1rxExXDkXJY/g42Gq9KRc/aEIAvxNxPIPyHXbEKgQDSFDmAnNcum2/H0dMJhwGbkYX3AAAACPAZ/wdEJ/AAADAAVBFO8i4wmTf+50/4y6fneERUHOtNmv/C2AAIfhyDx+ifV8h0TeZ+jiBSNl+PvlVoD4ko8ETHCgcP+PGRofI6V+975DhaQZqCfVjFgTckabTk871/pb78xTj8XvS+UiFUanTTv9PSJ77FrVrVfE8e6aPeLuObHGVkXjnNZGdTrpINT4MCEAAACkAZ/yakJ/AAADAAVC4BNyLGFN7glYHZvuZ7X1Hj3x4S98e4axNsADczIsS7vMdJd28QXihujHbzHXHcgJNZ3b3nrrRLXLx84VHeDz3t6THXb2Ij+upqnebA33DnaKzSEG0D7AjSQ0XBcGtqXv0aMFa32o1fnunTYYp76eUJUPRt602MiTppkxFqe+HrkteImpbykoUPZKtMwaJWCv+CsRJd7nLlsAAAEuQZv1SahBaJlMFPDf/qeEAAADAAC6+8JbwSxB6M+G6SADarY3Zl8LKvP3dgaJryh+cEscjpihbnGupqlqANadtrofIRr0kHWTMYdUNen7N4MR77R/06vokc0fWWVmS21FXwKiejhDZuo0t6ocAH/7HngPIi50bQO/25e/2V3Aij2O+UXnxSL54f3DJy6Nc7FC6SrLnqkIVCq4FhB10UTiSjdndVeKt3ioNTZOcQdHyH2VbSCI0/03L38dMqCbEEdrEqGAA7FttJ+TSNFPhOJ/YOK999P6jzGxmnucvi3X7ui/mv6fmGoh2PhyYepvMQrMzN9ejjxPxr+OqNmrYlV0JxwKnVcPL+m+Gz3kGHeTT532j9SNgi+wFEZulTUt74GA0mIxdJGgTgeR5Cw62mAAAACsAZ4UakJ/AAADAADECZIu5sRhjbFqEHuy46sYAAvmdN1v9dzJhFmh3vtqw2xHuo+2sjPXkPbd/BT/ffp+ngruC2G6nq1vsl+XGV4UF1sSSYWAAMhGX1vHBXMwRowhiLeSttzIHd+AoHtS6ocdy9Z/LbICWYWBJOFrMpcczKDLNt0pnPA6Nugts5PIE9gJMIcrdxUt0grgSjmwb3+yjzHQgeKI/TT0Xx61e/BxcQAAAVtBmhlJ4QpSZTAhn/6eEAAAAwABP99/DKOaIAHP/gefSpq4UrunucYP8HXv8LrSBf3hnLFQ/KKEEURT5B2opsxvc/5Mg9bct0NGQcgJKUdsNMRXHtUWstEC/CanGAMlwhoiYzNMb1pVpIS/qe9AuVznIX6kPX095/OdtOF+MNjFXvcLEqEfx1a9IpfalzO/cbuLZEiZdQqC4sioH4YDMVsUzR9zgcySuoSXy9KTPU5dDZ+bu06jaOrbMs0v46WWw/V42ld05jBAmx2uYt+ama3Yg6byPru2hQtdnKzvF4ITFc5p3Fubyje5hEsA8Igd6NxOnmeqo3WQDRwik5OWOWRVR3Y3//9b8RIofleLrk1wet4SxRay/vyXi2MisbycRnBBQfGru6wG+aN8GROVsR1y5yIqQItnI1lSzwiYh34R8HuMMMkb0eg6Vwza1QVRN2duVUXnWDMYPXmw9wAAAQFBnjdFNEwr/wAAAwAD+RuzbVmo9upYsgjhz+AOkd45xJkqw7OnCDDba95ZARaqyN5+iZuPWgfYXT4a9XiKyTCQFD1y/n43/PO4z6DNHfGuzwfDvWdnfN8LCe1E191SHpoPR0ruhI/cJj3MaXsypwBADku9Vsrctm422y3b55jU+3ZGXG7PQ3XnsAWSnyuzzUH0xH8ZiH9GmsIUoBGK4/5QeoAwy87MwvaUxmZG1h6vwLv8neBZGmSW+9UGfllQy5Pt9Ys4jKUr5xCzdmpFLCAhipESRysJb///03CnSc6/6i3zo0AsDCtv4acGmJSBSmPQhAllTsTFPd/6NNO9qY7dQQAAAKwBnlZ0Qn8AAAMABUEY98ElmVoAFr+1z+vzK+IMMWelwfibLW2dZuXuvhW3eJB/meKcoWqjeJkHFue0qaNoMESnGpwdeVdUb3wSe5wnCZlKgOaeWpg2vw1q5Vs5xd6y7nNOUO5SnivPrAOV7U/YRmpWAGZSi0J5FAvMBnMvPnb5MsVVyBKnNJ90k7eC0AcQ7Uk1xR4zTtgmDANvHPtrf3TA37aSoauEMIVybcqHAAAAsQGeWGpCfwAAAwAFQt/b2mnb9GxqvuIXDcNnBqhhNUvGEGCACVbsTPwzUZZoRsOOUII7IIc2IyiQRb/iHcS3Z8zL1U4te66n8zdaFCyQ6A++wg8Ei43wSXLmIFJ5rlyDiDxxRwGmhI/qcrOG8YQeC3WfZC/Ec96nBs7+eNveglbYmyhLgCPCyE9is3n+bbOZOGHgKhb1yuo79ZJ5SU6sduAWr5mMEsjE7VJYvnF5ch6UhgAAAT5BmltJqEFomUwU8M/+nhAAAAMAA16/Lg3lvQADQeDMV2U2Xrp0VMxambl8enQ9n2WCYFFugA1oQRcI3kla+GLo2uAYsBR0Iq/ZKl0wUVhpU/yT6ioSCSEhteeKeF1g5OKj3lEJWu62s/eWSliCzaMCEsQZXuBc3Dv+oipiIzLv5tf3sdFnRE153Cml0r+ntJRtnHum3PTsKKL0PF8g3xF+E8M1Y1sIZsvXwwJpb6vCRSbNGZnVFrZOlYx5IfleoPUEFpAk5nC5O0ZuNPoOzkFYSZiizG5kf66Z899gZNt1GDqqj7MDdljnffb/dznUF/Ye39Gp0dgXf6LLtS8/qP2Tru3VteyskvDUljAQC4kvy4m0iMZwc2LpInSqIwNnA4r4iqnE6WJq2lbBE6YxoiOw0GalMBprgmahZ8iJN7EAAAC9AZ56akJ/AAADAADtvATPWCzj27rbMYSmCBYBwu04AAOuAzuiAfjzzBFL37BlVwNvDgkqy0zUYP+YZOv4q74L8/PdjOmdbg6wZDfpKCTKTs1Bx2o6GsPANo/07XPJYM3e4EV3gLdzwcy3jJG9bxS6NdiK/3FeGtxx6Cc48sLnkV/txHnq3L/X/pprDVNIEta6aSjQtjezBvHC/yFgxaP74tqxFyu0U7JUFXIqDSGuAW89vvCzQzV9M9+6ssD4AAABF0GafEnhClJlMCGf/p4QAAADAAkohLxSasgBNJgBwfAAVhp9uczz9SWf05DujssXUrAkEXISvkzz5OJVbL68c6SRF0UCxEOKeUA9dO0oXejdVgj5XmN0uDwPHLS98+HYlYKLS/1lUoCSGueadE/S4gfJYbKSouiUtr3Fxf0yX6fgDmCHwqjjHBMYpeZszgfPjrYdxo1RHNRN5KG/cwsXRjU80oc4p8xWQJqBS0ZTHXDJHsNhFtUsoxRrewMT3Hnqe2yOq/8cvt7BdlK2S+1OJquk9tadJ6bKfW2uFKK4jRO1zg1wH9cvv5cu+gXEfWPg+tecdkEfVH6AEjFhwQsnjkZCBZG/5c7MGJi5NMvfpuQAzEtpvX1S5wAAAXdBmp5J4Q6JlMFNEwv//oywAAADABoNafCUPP0AH4tcJk9MbOIMDhCV3spYqatIIA6RsB9cAaKN7Ucc7bGQrWbCZhPSby428yQ4aHhetXcox0E57iQsWi5eMe8SN+OWRE+L4j77MxhwRO2Saow0QE5WICyY0k5IV+E2F+UR8fjs5KKMVu9qOB1WfNnJus1GlV7iYc/y9rfobqRh4Xq3QeFTY6w7jmRtEDmEq5kgA8zXLtTOOh3hN0mehsknrlwP1zn7HAyb1D2PyiOskCZVjeO3Q8ZiOt8Xu0iWpjLQh2SbZT/bx8zVGQhqtowJnF7ZjwcoE6g1Nnwe0Lw7EQ1akof21JvqpwFF5i+z1qSukhRulpDINDzLw78+c4DAYIKjJ7EMX+ByOcZhN9pYyisqlD4Vpff6ilmHJjf1x2a1mEYq1zIAnR9E/7eavy/c95imp7dFQnKgmQwH8QwGwwr+5NC5D9V4/ByJ65a61Mhpa80dZrskmfQ7RMkAAACzAZ69akJ/AAADAAbp4CZ2/hDyzEXn/Iqe+PxeIAF9FCrG67y2+P27hsdIN2o5pgNBvMUuEYJZRWPmYASEFRybKA9OWEJmBN1mrLdnIuJHu9gcED0qVha+hEvZdE3BEeUzVMvdHR6a4MyJpf5mPQC1zbCBIBo67qyBISWxLRz+vu5IoYfx2shqzdkw920rD4Tj19ov6o4+/QY2yTDhrsi8h4mxpCk+33EMFZi+jrD4Ox+EvIgAAAEAQZq/SeEPJlMCGf/+nhAAAAMAQ5ZU7+bXyAByjJz3nQn6sSidH2ysnPYdm1jIh9pbtFHP7sjuQPYDAMOJ/8u1r5w/Z+EPURd+qkyzAioGJN0H3R8CopfuggViAo+3dTQHTt+7O2lSjRb/Gv+Efr2+ZEYqYU9Ba93IhPJxuD9YP150/iDUNAsVCHztGHf3iWIjnWcVa33BH1u/MYLCCLZlQC0GVjk1/7/MAQAkFWGM2SWPW6dhnHkxutOJao5MRBp3xCWjLaxnUov0aJa2ISZOL/u/3k4HWuiKqMS9QkOLivCtL6YTm6OWt+80JT01R6DhHa4jVXaabmIGjAZbXy/5kgAAAP1BmsBJ4Q8mUwIZ//6eEAAAAwC515MuE5L56R4CioBaTcNEBhfhLmyrhRLcZozeGPteC+LoqjbrFJREH/vs94EwBf0wwun1iuEdwOMbk6hppW+aW9OWD6iuGx0vRwJBBkGcf7Mnh7d3lVQk7Zomge34cYdyo9gvLV9CPOe7cLhdtGU4QGjXe+eta9j+mr6dnP6IEddsP1KQnTu03pW4aCjw8aNYsTj70gnqjcUuU1Nkz/QL+gcMPHm0ptWuPnMwzX84Cl+efxNV156/f2V1lCVYfwGgyfkYMP7WXmf4k8HCHPvrf3KDjTxMmvJZmN/HvGQjlqXRwzxu5LiWoI2LAAAA6kGa4knhDyZTBRE8L//+jLAAAAVNQN8Uy0Hlsp32ACG6vhia1xC4qMVc28W9A6Rui+Ow0TUOxXgxt6pWmXSan771q4s0Nge3lysJCj25G4EDF6pf0yzy7z1pFO3CHXrSmtK2ECm6+NFNSoXXXxWQi6BMRa4xnRW9ghxagWtb3JmJW5u9mtz3XaMJyj4bLded5AyZ9fDmmgIvbhnYuy0NoQerjwlDRuMU5UagABpSsNrFxZCwyox/h18GPZPxoNwUYudP8tlP0pUz9DwGdHKnl5zOcMxjW/MDMbsQE3w79T9KWYOoOCxOqKGKCAAAAGkBnwFqQn8AAAMBdLdaP5S+dV86ctf0gOkwK9p9oRDSf6Sv9qJQ/pIhABCnjuG5Q1u3TKm6o3kF9q9ZQxYYIgN7QYSfS865xfilENKft6XKhUc5vMi5HObr6YX8eCHFcm5Jf7xCzBOz43EAAADRQZsESeEPJlMFPCv//jhAAACWetBbFFVEARMb5aKRYtsakTEmQ4dKIFtB/3Eh1BfYM1PrGXyXW5pmhIRVPdHMfpE0cCAPT8PJIZnG539ubfdfy7WQwu4sWIAUPvNDdCLMGDwOOo7Dv9DXKLeEJ67SBDrPqDfVG5xMgpNy2YxYQH9QS0VS4s2Lf5gcjfs5Qp6kMbLCXfmD3iILtP1suNHoM7nQvvxh/Ruu/pW56zrINBvBiDy5ORbOeCePD6oG4iVIwEhgk+NGExbu8EucGIgwoIAAAABTAZ8jakJ/AAAKhbrTCTs6xbQuBoKtD/NXVEYn1RoNpd1CLD/9GxdzWthkxrlnfMAZ4rYQN8QAJ16I6KItP6iRbxHGXme13/KmwSZsCLXfhEZ/QEUAAADLQZslSeEPJlMCE//98QAAAwPJb8xgASBpe4+iHB7XABdAjenP1vwG06Y5AYt+hUNlZKAIpKIg0RT7jM7nEnfT2o4OlfafDRCJL4WNt2DSynKV+ReJOu5iBEze63l1+7c/Y32/cBhRHsuFPrvSlroIedNsxydHoapax4hvDYtcLHP2MmwREwCD3W0Dhsm/F6Ur5OmoYSLrr4EKnXoKTTVV4aX4qKNGKLEYVXIRRSLqZ0NYQQH9m8UbuNomprQ67H5V4Prsk52f4CAwFBEAAABwQZtGSeEPJlMCE//98QAAAwP3o9gKArvADbDLIVhI25Ws7oLjAL3D84RlvxhPT0N6icpo7uwAR3gKclzya4rNGSicPcZ5iaZ7t2eWzI04Tbjm4dac7oxro5WbXlF1dJt7xdW5GTQ0UHQTpbvucIAI+QAAAI5Bm2dJ4Q8mUwIT//3xAAAKw8vBeQHTluIc6Ep/igAG//gCzNT+UN/h8SETPrFa7QdJ8Cyus6ZI9r2xHdkWPLWfIAOTRM77KxG+fSRvgpUrm+2VURrdLgkIcX3jlfqZBLZrzvnp+ILTmPLe7Cxg13npp4l6PbCwU0cmmkKkljUktz3erbZSLu1j3mEiAGBBAAAAwEGbi0nhDyZTAhf//oywAAf/JBsWYBvxqsTprEAEFVDhwtGMy5r2RfgUjShxaQcAxkT1t4jAnzUkig8m3z0jwb3cW07ZcfanoHPs8CzIh5fhyAsXGtC/8xTq64QHRYKAw5Wg+cEdBrVUBWoRoqaCHl6z5xv2AMnu33HVbH2zItk3eaES/2V8jrpIIKvKWAeGOc0eQ7zTS35Xpp8mAp7l8oJooa0gVt+zgszVkpMG4um5/f464ffQ3PdYCezljbwBQQAAAIZBn6lFETwr/wABsGbt+smrWIATP2ydv0jpy9GGWK3+TLZ7d+j8AYgnab5NW7FJkgnHgww/vhfDwEiyWCDk/KrS8ytwbRIzbo7Khv2bstGeKyGmmqwa7oaurYtKqsuQVUwTaE2VQU/c3w9qbaVnAHA1AYWTUZz1MXXV0ZzD346SRtAc9H7wWAAAAF4Bn8h0Qn8AAiwZrHmwargA4UyxAliF8AEJfv8e5MFVGHORllyIliv1CeSsErBaRVfv36ppi2gI1MkB08pLrZmPwiU1jxu4B7CH6gu8Slo9Vb/Baairi2n+dnAzfXTRAAAAVAGfympCfwACIxGdluwxNrsbUOABfXldVp/lMXuGlwEnSwmKUjkJJqvuRXFBmfGf82cBaCO4b6chI0J+cTCZJIZDpaSbz//TrvsMa57J//IkAnDMHwAAAGtBm81JqEFomUwU8J/98QAATZE7AXVHHYgBNM3dmPhNkrUX6psd04MOzycwdCbGlPUsgVkChSKTPyRWpcYlIjWKvK3/gVjFWJFDJYcRWBJyGd8AsLTu69F7hVDom03Cns88V7T8TASCuAAXEAAAAEoBn+xqQn8AAiMNkXoHPVsDgAXW08RH4JabQS6MoHSgKmqp8rBXY0gA572H2oHnlei/fjxGQYkOmmEf3SyDrwirfDnWYAT3J+14gQAAAG1Bm+5J4QpSZTAhP/3xAABNUUHgKrVAA/D8caeDTg3o0gvjj1IdGAy8ODKUN956BLzGpyeFm9eUohFDq5pewyS9HQlU5FiCeJadSPdf3gBrlofVIM4TTlNkrcWtp0Ncc8WFXjEeH8B9EoNvgAEfAAAAhEGaD0nhDomUwIT//fEAAE1LaJc5fzAAtbJ6hTKR7puvxwQk+01K2sI+X95cJ+7s9S3gwZrUixxNbiMBzJ2MEwFVZtI0+ph8vuAssW8DchfARzDTgKSpawTTIwLIaUPLY42BfSlFcBF30jNef/MgftNiYQVQ5dqSZacSFR6DRV7DoABxwQAAAJNBmjBJ4Q8mUwIT//3xAABNuifkBIAzovJD0atiJMNQEBgAW8e6GWA6ttf4+psRmx1xgG5wkV1PhnG1sv/umq8DkIcMV5MwS9Ho0Q/5Y5N4D28bF2RHdyZAN3Nr7YQETGZD2qUeQJAKVdERow4EIefbrENHAM5u2DWd4MTxq2mbTsGsn6Cy8PE06IT0By55cBAAOOAAAACtQZpRSeEPJlMCE//98QAAHR3/8SJYF/0Lyxx6+I85+WX41OgAIwK3ZJMouu98bWxxQpurrb//zaR7cUkKxH0tVQM/gfxjuvVoYwSxnnw5A+P+eZyce5NdtrOr7UpxrWLleDc8jnh/b6GPnuZjkk7Vy4LzM8ChuPdI80AXKtEdv9MjhEesRRt+ljELtVnvyRH0gFqjuGpiiDMBJl2Gd7OuOEJXOzeyUFjXeD4wVZQAAADuQZpySeEPJlMCE//98QAAHG3/bePu6HXjPCKXBb8Kv6snOaCflx+239ziXhngd6eN0lmv1UndhI9GG4n1WQe3uW4R8Km5wkedBY7yUaP6Fe17ZIvUsMABe1j4D37sSoigX2lOePaaeT41frrwA9A++dJbGTlOBmTSvfY1xj9sfD4n2WCisrR1WtKvQ5s/xRIIyhw0uPFSIvC+KN+PRNRIXRUv4cDTHV0QFEgught/YLH3aHYTIoBM7LeUa+UnPGj/OEJzE/FGv3j12MHyoyQryX+7e+2Z2CUvkaqpe1gnBGQWQqHdJIGNA/MPgHyd7QAAAMlBmpNJ4Q8mUwIT//3xAAAK1yfWX/cmGzeaZpRUZfn0EHzqbtgHgIajv7Z/JSrq6eVE0k2U6ynZQqT6brwbQ2txRYwr3YFugrmc2NCy9nurNiIXDU+HKLFwbZUHYFG8r7LvLRTYR3EeX2u5Ve6bZE1cu9javHE+QmyMIfsUTEMot/kVesq1bc280At7aPMe/8rwEXcir6MQioIAN6BACG53v5eEBgeRp5g4UOsx0Jqp3SXc/exT4rUPDao0Rq3kk79xySdCBW8A2YAAAACwQZq0SeEPJlMCF//+jLAAARn6FXBf2XV45ZwJQZIa8bR4KJS6nCW/rlXK2CXRBEuZZhdjan/hHbxmC7Nc/vDD9PcpJ8/n+DiTwFiqEkZ0tCWLs0/hmRIVVFsie9dx+RPf3z1VFxbvfDjScHC006tzcMykXQ9sfmCuuW33FLZW7c/2o2a5qB38AeRsXc9CatIk7par8toZr0ASqujOezdX5CgyRwM94kx53kj3lzFyAqYAAACcQZrVSeEPJlMCF//+jLAAAGq4TpzmhIS45LeK4l9I/QmchR7UFn9kiKFGYeo2nzKh2XUgxowMAoQumptD/Mg9r9NA5qOsyzzcqnOJZ/gNFziJVLE/ABqdoy7/wlN+xa2q6/qF0+ql4Uuq3/FFjXXZsZ3D+KB4zgWvhfjL7i7hJqTr5CRoOpKZjda5SM/nM/WPd/O+l8XD//3KgEHBAAAAgEGa9knhDyZTAhf//oywAAAnPxOTnZIOnq7yJ3rP+ZwDm5hGEoF8SSbFs8YjKqkiPVFVb4CKYX0pY62AMzmGOgZ6P7a6oO4dfLMNXI6qRKCQQHVnREzdoqEz3bXSul4ezFXKr8AC23ueQJ6Uu6/GHfA4O9vnaGIDd7PBFzqLuoEzAAAAxkGbF0nhDyZTAhf//oywAAAOT63gHOz0tXfy9Q27TljmAnacStoaTVT4qIpFrfoMnG5glwgrEb3fRquAP+JSGzsuJEsUjSyW/8jyHtKzZgNQ2F5t5KlpnyeDg9/VEOiguA4dk1hO5dUqWqXuk/kp+f5mrgpm7efq+YrDCdaR0175GVMz3BeXt8/dVnyS9InWnLi25+l67Z0VV1/FRcZkYUg2F0hU+f50pv30+I25hBPqfi6ArHKfVDJzBd/PD2rwOaIomZAMeQAAAMZBmzhJ4Q8mUwIX//6MsAAABVPc0NZ0/8zq5UwRjMVZ6BS8grWc39/gQogoHxWGH8WywQ/jxuimkFnvf15Npa6tio/kgKOU7yCqEqaBJ3C/Xsm6DpKEDET+HJrb3Sdwy2YmXEt81NPAnQTN1aOwwgmawVziDy7ceAzNBZHuhHr3U9/ryTsr/RwCTf4Udb/2zCI8SmK7lbV3/D27d7QnouYlonML7jWksnmo4vt7sY+Oq/rs9IPtsWw2GugwfsaKlhAKshfkSi8AAADNQZtZSeEPJlMCGf/+nhAAAAMB5/Y8HPlBI/pcWUeXnzaVTFYtFmuexkZ+J8AC+YzTa9gJn+O0MxZmWd/n9ephsVW5RKGj05D5yggmJn9972I5P4k897EhwYZTKNGghVDw81Hkwwrg0U+gmOucRQi8e8XRQyXuUkhX0K6ELNhW0AzxsYkXpUfaZShlNsrq/NEim2wxPlUsbPJQk9dPApKncej6lls2kifCgBUSM63omLyFf1qtzbLjA/oh2HGZarPkLk6T7XYqBTtc+qJwIAAAAMNBm3pJ4Q8mUwIZ//6eEAAAAwBFum9IYyp6evcI/SW6z+U2loAFSeIJIvPOUtQEZMIcLyX/N5qK6GMWIonKGGc5qxpCH77WB555CW7ZwktdYDTMe/RTKsWHfr/z1ndNJBhtf2+ACNB8g7akqVO6QCnpRnBwaUpjfL+D8noQm3jmGWMdJ8LB8CiM6hRpHeyZhGv3fPqLiQgZc+tfLrpXztCDcv0kP9b+lUVt3rzFooYKArV4OLAKh4wxeYyKXhn2HVdub0EAAADxQZubSeEPJlMCGf/+nhAAAAMAGd4TpDGVPT17b757XtD1eXRUxQAVJ5vunqqNjmraEs6tB5+OnFj6vPYk/F70+VdDqa1ovOhFJpGJzEKUWY62PRYdq9skAEgRU5RJ/uGtaDWAX57b7T2rZWx5Bcxo5/+6mOutbvMNOsevjeIevnZ8SfpN81jd2vu70s/rE2ycBL4xZetTvYLyendNNHBZI1TI8ItkZT6IfQcakHOtWFiq6u+gkN/zSJPbhy6q5oo+tCI1GklVeqw6eG54KfbfrQFe1D/hmpGjycdwug1FCsE9Y0nzy60WU0yjbhc0KRGQ8AAAAOpBm7xJ4Q8mUwIb//6nhAAAAwACbfI1bwOnzKmpJS4mMl2WhlV0AFTCH/VqX61zotlndSjtlfBIvd8jGsskhqFAHOAG4GyWJg2JhjiWEHT5ZCNDkLmmF4p8y2WTOCLHA6EWCgwjO1tr5+KC69CALOM85SU7ELrYyJbe6dBkngIgSYk70iR0fCu7AUBnKQCmYpTRcN4v/RB8W8RtysJJFqyXMHNdbQiJYZXoOwlPfANqB+IgtmyHVI4hNxk9h+xs5IWx6yxqtpfVfFx+dJwFMKsNvg6KQHv+Sbnf+EGenGundVL4wAqLZnJ+7MEAAAFJQZvASeEPJlMCGf/+nhAAAAMACPfFi9/zZlOIAV9rI4GUzb34JrDIAP3WHiBUUy2YPDijnjkGQoJ0pYocozaSiBPiwmbv7NjUoy9i2HxVbqyQIOwz+ZEowYccxcKhQzg3s/XlRN6PB743lmRkPA5qUN9scamNWQrH7c86X6ri0ysnTUFTHD463w8XbRPRb3gC/nVUoz84y9I1aiz5TVlHOTgLvmQfjaeT37f2bg2vHtiPIaLVcDu/buT8LgJHkyJCICr61p0avzdA2miM8JyTiqaX3lFXtCWWI4DS+vbWu0iRuBnM6IOHcp5dNoJpEeEpRke8o7NoNGdDiRHhF/KWsEFxxYRUGrD5hLi/H/VRInLpP6LBrbZR8KKxQMZvid0LFXAEC52av0odKV7vHHP1VKzAv///Wh/eokJlpmEV6n284J7ZpPkP1zkAAAEMQZ/+RRE8K/8AAAMAAdsDabpDhj5pz2Pq4qlmVgAhEtw132obLHb/ac0n3GpZmhjBmfQiSLfSVM0hdRt5qSzJsfZEdmw09U6TQIvbbXTdTumpgCDDk3YFTVuV/Y8guY/RlEl7wc76WWs4atSUh2ZgDYSIL0fjeOS2wSC/nxJxLxGJhU2NB1H9FhaLka6EY+8sTKHxe9cm/mWx/2D/mr6ymGMwx8oHGKR/lAhKxzGLLnImaOI+D6D0ERsty5LoFKBNIGWem2mVG3eTvhnzzxa6QT5bX+GRu+Olak5QPEU0D3c/nKTEtuRknfyI3EMWmSmWEGr/ExRoUjbL///9VFvHLH9B5XSpZwmsHpi0MAAAAMEBnh10Qn8AAAMAAO1r6CEipyK9/qWTKl3z5ZdOITgA4WV67zibV9lyQ0rA217iI+Rai2vwcZWdRGAR/92fZmUDrIERuo9zXvYJPiGSKbcgqPAt+GDTZKxK+wU1MCleRn/qK5oWqMXxj0/Tb9k2M6+gjeLWf6af1H5DMWHXigInJ46lWDmUv/X75SU+SQMW6ptRR0EEMNm+PgdL/liZR4uaunfCf/LsUWlfdUi5T8oL1JJfeNFLyjT6Afk2//uVgLQwAAAAtwGeH2pCfwAAAwAAWJkwNeqrNspYXw2tYQ5Tr8AMDJ4HX2QAN1RMNAFodb57NdPGx1Sp6gWUtO7NMBhTK4RfVwZ6JSnQOnPpzcM6y+BbJR6rcWgm4Pk6B3iXPjUptQrQQnGaAqhIKfmZVs3YU8dC9bLbPmqiKAsuGo72IMtiEKrSur6wfjVy5lNp2Nlv7RF0qnTpDm9eP7D91WEXxWdoG0N8P6LRnKVH+1dAiqFSNonbou5J5sJK5wAAAWxBmgJJqEFomUwU8L/+jLAAAAMAAu2MyAM31KEyemNnnjuokT3n0QUq4e5I9sK1Pt3uY0x6wQg5JWkDt7c9uUTXXgKA856GcHus90f/1baJEhJeEqjq3Ai2n2t7AWC0868JuqOiWmM0Cfg0zLobe6qAj0UeK0/v3meH7Lz+u7hegjNqSoKsmcpGkiI8G/fAFfVtjB9C24OY4TKjd3T1dydhFAl2z2bX3xmeKxugwW90FPBACobcXtpZ7wYspbz2E3g58f/KoPlEoxJfAB7rPaCeLIfiyxuISHUbq5RfTYOa6Cd6YVY4JltUG8oaI35upBdisimkY5rA67A8itfA7JOL6F19IS4WIvmkpA/RxXIpChDiBLtkNLbctCQKdOv/g2DL0fOGnUH+L+MZUDk/5+n87+5K4mU4wgoMOMy01jZiTVeU1/oWVYABfzsCtUX9Z75A53afNizgHa7l4h0na+EpiDyGyAkHVaE7uwHwAAAA6QGeIWpCfwAAAwAAxwtA3r3dUVwYuALCwDMKV/rxIqEBJOGByqJ1Nq/BFYNM7VQbstwXXSHIecMvQZnBKb5bbS9NgCQcOU2psdDdMfBs9dDGbszHYXbLvahWmacSFqpdk4HM47f08TpwzPRAp6D0T1sBPY2L3UwHhRio3/xOh1CkqV9A0RqyLv+yvweWCFcEHHJ+YRm0AxOVX++3n3m/VvPWDOWW/qtZ+yJMtuYKAvqbNx90ytDGKUUTRvBF0koAMyUCv0+S3mHq9Xgu4XVq65F+TZxs8u9rZQlAbzznrYpa8XyoeJsQ7DfZAAABJ0GaI0nhClJlMCF//oywAAADAAdK16dhuvQ2b/AQAO0PEu8g0dL/Y+zitVSqtUiZ8H+FICJGJaJBeCwvtvTWwyEpUX5ZVoGg4tlvPZNi3VKvm0wrYp2GEVPMm1QVUL4vdD1OiCRiq9GnPObbMWPskfRyFIU0k3JGSU3TbJQGXVlj1tPqTdL41sX6d3Hd7Ud1lRcu7/8OI5KSjwqP/MDpUbckCk/XBwWCC/Z00naR4wlJ7kdIdMgPB7MdfYu1+wvss9m5FWrpb4HMu5S+3UM8WSdHp7WlgAyNdyktyxUZ6nzn6sQ0Cle37wkFvk8DOOBJFnn0bn3JmFxvA+1aF5xQjUPkAvNdVEuVgrW8LGjiqvZtXFtGwji17UexEWIdu4NYTippgDfonoAAAADyQZpESeEOiZTAhf/+jLAAAAMAMWBUk89PpBEAVvGRtaqAxDR5Ni+dQ4uTjlFIQpevcmqlfh42TF8CCuEvOcnvuE1u4fjp1N/4m5efSo8OzdTmft7qjEWOgPCh1T3yNYgoL3tJ1fyczajY5DC9YxqkPcW0jgMGuEzrXO95mllv6mL6g4Z0M+dH63cRQsSzM1OUNvfcH57Q/sBx+603KSAkr47OT+XPUWu7oJKQHOUS5Ewz7/5IXZWbG+F/hNuvnNB5yWyf80WIZQtFgRBbb486CSNItt9nrVgOlTC59njubPxiWJXlbUrmHvcynTUGGkLvFIEAAAEjQZplSeEPJlMCF//+jLAAAAMAfLm1akS0FQAcvzczkKVl/c7TbOE79xc/WKN7rHe6sTT7+Iuqxj6cxDkQd6DrbKsSYbuQdwOSLQskaJUQy0qcO+oQa1PZhLpOaEeX3jZz6pU4/UTxpXB5I4UsrbC0iMs27dkBEk3cAFUekKU1MYQ+jUJOoij4nURlfJab9/j0CJUnV6Nk5sAGJozzGDqigGxey5t6ghBPn7t/E37rkihgTb0o/33wL0Rs9BFA/SzaurDhcoLqU/5LF+F6YfSEGkvKKD8QL8/F+PcwhPBdLSOmYS0mA/9zUbNqBm1KPBIVdScPCtPp2y7nwkR9OXxB16GtST4uGcAIyhgKbVMFnBGnDWQ/FHcXh59TMk/fdaZkL8+9AAAA4UGahknhDyZTAhf//oywAAADA2TsyAISYUJl7MH9hmkA//oLD2zZrjf766Bmzm4l1SO6tHPkL9e14Is0iuCw+z3rUfY90xt0Mj9bZUAGVIKrQ88GXlaBZByvkeIxQn1Xz13F14eVWqHgl/+DawJ4zwvkRdWI/0EtiMaTM7lKSyReBmckYQVMccM+QA0XlFmw9v3hOkpf8OZHaCw8LILj4Khy7953ce6sbxnSaEXW3QkHbkBZOpSk/ywc2XV+wcpGEhvfRw8tQyn2FMt9+ItAJGkSksSUpMpiIOFaWqy1APA1EQAAAMpBmqdJ4Q8mUwIX//6MsAAACMpZx5rxvjNOP3OAB2h61jnHiHG7hI6HBr5q95j5F+D4eeow2FTbg9JzrVc7B1O5YWR6KnuPUGqhvKfHBlqzh66OhS/ZPtDK9udXBeHySOE68y51Ufmz6onVZwvBb7GQmKFpPyn6i0Np6vp004eNg7tgN4jRvSVTxABkCGGxuUg4vxLo0acL+9WEztGyB+MHEem3lvJhTeoO5TIBBcoTaz+mF7xovF0Q8RtgH65PWlzRcdMnoeaBvC2nAAAAr0GayEnhDyZTAhn//p4QAAA7PrrldDZgqlc9gAr8rF8iXohdwC3iUaLMJKkczZFjlxPmAviL6RQf9PWKXXoUUt3c6ate0rUw2+4VUNSTQSJ+/iRuYA/QiSwUo+rC0pauS9aOG860OlVmOBUHUb7jTITZQzX5fl+8t3/yTE9q1HH7YG2xgD/YYFdTPQhNmUv2og7vVVGOxAwiaaTKomhEyetlFY/G3FrA05xlxcEPtoAAAACVQZrpSeEPJlMCGf/+nhAAAJqId52/PZ4ADtD5yePTu2zU2qYJmhBo/AQwEmlk2uDKsWL4p3TflNKCs+1Gec6z6eg0dyQjGPLhnbdoo9RX6SqjWozrjgBK3u9SKeW8+crL+wME5yl+IZoyVONyU9SbbarFO8dMeEqoLP2Y87VgPsaSPrK/32PCmFxMLhLWmUbK+pfbIRwAAADKQZsKSeEPJlMCGf/+nhAAA/XrtsczxyACZxjweOHk1p+3OPpGNEtO++l/ibYJM07rGv0KewTYEr8Sy/jVqB1rJSGSfWoYUBVx3mj4UEb6x8ifjwCVXABo0YxNBaBXNWS1MgySo3xw0TVGbpaGYUGKPpIBPurGJQ3JhsAaalUk5u1u1nTWhsdFb7VAsPia3ilsz+DhI9iN3IgSx1byrW/lFRNlYj8yUDOhuFs6vilSK6XETiLkM9sCQq+UxPXXOF1ks1ihxa0JFCqBzwAAAStBmyxJ4Q8mUwURPDP//p4QABu9c/A0EQBt+vBaPJYxvqb7hafd2J7mJiYdmX0Xxb0UyWyWFR10YyXS0r4ekhNYDI+Pl8UppGEUXa6r33HRvl1kZQhUuuvjlitsC58HzUG10Me6Uof2tpR7gkRp7drVHbBApdWIJlH4Qxf1N1RQvMSofz7xyX/Ci0YOWgHt9J/5IwYD21mDctBO/QERdALTyPRbtGJgTpaeDq5RwdohE3NvQW5ouSROuAIajwpN5zwAFXE4tdkw6umPY2+f73cWsL/9PzqUe/PwaV2VQfaxiDkSEUVyWAqY03vfdNtYIwwR7oUCOUf6xNr6wsjZFgW54kapNOBlOdipgLqE7vBtCohz4TpIurDe2HNIxBV7QHYWovenIMA/uxbVIAAAAKwBn0tqQn8AB23gJneTFR5Mq5hCAAHWBvhxJCVlwbIeP/senW8P7SoAfToCYCbvY7JA72IQjoM82IWsJ1wYfwfRM22P7/bQKvbaeshTEvnV3nDpfPfn71H+gyQxSa3Fsve2yBmkmOTGBAiWHQfscybI3MT6600fkwGLl4RR6/ruKpM6blEDjv9NFa/X0oLxhMlWYgRjZpju1HxhQ/Ttz18hsluLEtJUc+cmcm4SAAAA7kGbTUnhDyZTAhn//p4QAEU2Y4GWjptT6F/zygwAEvDdxBqyowrKU20RwIkgJG9QC6h4MGxN16sjPjzEayd/7nkSmz2/OoWXZ3wMsqV9REvTnlUftH0v67iFzxhUMMrHRuNrbOt+AYAXK4mHTz0C1hTjYmvxJijD+pS+W+ZqeipnetGBUuNRdvqOQAHLBEEDa3/fyMKJ3xZOv0D4XlsoQNvB0cWP8spio0rBADA5xMxtrgTtx+dyIvRfCHHOzOmsNLygwJ2Q6lEO0xZ6O3ln9M+VfHBuu36cpSmgzhDUJU4nljxnmaLnDhcfSBIAAWcAAAEoQZtvSeEPJlMFETwv//6MsAHJ1p8sjmeoATTPpfdB5a9IBfriPP/cyQ3VW1hc+ZRmstFMOvexQKiY7CUzH9KLa+q3kA1/LjHAnaCVI8eF8hlvAbCS6jtCF28xkbHBdhvJIbVJmCLUixi+/uprIo6YV65TuYCFkiLT+z96o0KeE9v9dGzeQbi30ilVI2t6puNcb4MmHjqVBlggGJ77GpyCin4ZfuBB4z0XYZehdXUxf34XvZvfPHKU5zWmltvlD6MAZi+H3g4VWRrHl//YNxaebSR5th3GAe8aXM04vtspunCX7nfmuRzB1ZOcFX8g1fHbfhgsdxkZubB0j87cJZNdmyN/hxlp9LAI17XEB7BIId2HcsyKKceLafOYquRwhPFerb/7BPAAB6UAAADMAZ+OakJ/AHxeApgYioacvXih/DCFBUAHFJZKjnejY6MAsHgQnNm+iha3Gw29FB7lfj3rSo8ynVawh6bV6tLHQ9KcZ4BCSHKnBtcl4ec+n07qBsIRohReT28hs620lNsw6UAUzrEDG3nMdET0FA9Rmx6Wny+9tCxDOYG/Q3WEzcJwqmSU0HGMscX10fa3t6relT3Lf/KfpbnnXAmoyhYRgma2l28vQyokGqf+ZKgOL2SOcMKYJYw6T7es1+tWH82+773axgFGi92/xVJxAAAA50GbkEnhDyZTAhf//oywAdLTVdB7eiABLJD1exYURxw6nydv483MeKGml6RgXVtYCq3cO8xpiAL7FkWcEytEov1vpg7EM2b6Hu8ST/axXH0ToqeG/MJ49+i0qKJV5BOWG60MEFVPDrbxbeyD8q3EgC+2VFj1CzKBE78vydS+doLLr/nTg7CVbKNp3NBDriF63W8B0zRTibJ29XpkOPXv6T9zhLXo5AqhAtUJRrfqVpL/ttNewUHbquofxLZlljqWo/9Z4EU+cjuBcP//Hrur6DfP1fRI3UPYt2BrBokKBtFwcYEAAAMCZgAAAPJBm7FJ4Q8mUwIV//44QAcbf+aLtUDDbKd+yfgAX15WHre2qZdmAgnH0Q2kVKOsJF4YOMXD47+dakNfkA3amPQn1nD8jTP7GF9f+4PrRS/4j+W8F30XUtJR3iXHDDzaLe7Nb8B0dDYZ59l/lxRE3JdNARy3/mqCWgR3KhV/LEIIyEtu9ejLxlAkz45vcLLwNBgqCe9Kv6ruXPzvUfWHTD+wxd9YUaZpJetwHS1XLexaoze/ZOWcWiOiM7zNIZWiJ5pfOx3qXQeq6y5AKUKgZNRc704100cETRCwYR2/4M5vaR6bGMTOu9wyjFSx+y2vAAATcAAAAKRBm9JJ4Q8mUwIT//3xABDvgFeE8geaUAF8qMOlVkzXdtaUK4j4A5gktwVIyWn6CDRQfoNKXOXICHwl7PuuaP0jMqz09fccZZM45Ftdq843UxN/Grkyf8idLX6dfK+vSLbf/Cn8+CWw8LAUDvZXtVVa+bfXQan1rRH7v0OtqlTAEZIRrrZlnc2vlozQ9KPRxWhaRyOi4mFY5+QELRMGxT7NzHQxYQAAB4dtb292AAAAbG12aGQAAAAAAAAAAAAAAAAAAAPoAAAO+gABAAABAAAAAAAAAAAAAAAAAQAAAAAAAAAAAAAAAAAAAAEAAAAAAAAAAAAAAAAAAEAAAAAAAAAAAAAAAAAAAAAAAAAAAAAAAAAAAAAAAAACAAAGsXRyYWsAAABcdGtoZAAAAAMAAAAAAAAAAAAAAAEAAAAAAAAO+gAAAAAAAAAAAAAAAAAAAAAAAQAAAAAAAAAAAAAAAAAAAAEAAAAAAAAAAAAAAAAAAEAAAAACWAAAAZAAAAAAACRlZHRzAAAAHGVsc3QAAAAAAAAAAQAADvoAAAQAAAEAAAAABiltZGlhAAAAIG1kaGQAAAAAAAAAAAAAAAAAADwAAADmAFXEAAAAAAAtaGRscgAAAAAAAAAAdmlkZQAAAAAAAAAAAAAAAFZpZGVvSGFuZGxlcgAAAAXUbWluZgAAABR2bWhkAAAAAQAAAAAAAAAAAAAAJGRpbmYAAAAcZHJlZgAAAAAAAAABAAAADHVybCAAAAABAAAFlHN0YmwAAACYc3RzZAAAAAAAAAABAAAAiGF2YzEAAAAAAAAAAQAAAAAAAAAAAAAAAAAAAAACWAGQAEgAAABIAAAAAAAAAAEAAAAAAAAAAAAAAAAAAAAAAAAAAAAAAAAAAAAAAAAAAAAY//8AAAAyYXZjQwFkAB7/4QAZZ2QAHqzZQJgz5eEAAAMAAQAAAwA8DxYtlgEABmjr48siwAAAABhzdHRzAAAAAAAAAAEAAABzAAACAAAAABRzdHNzAAAAAAAAAAEAAAABAAACuGN0dHMAAAAAAAAAVQAAAAEAAAQAAAAAAQAACgAAAAABAAAEAAAAAAEAAAAAAAAAAQAAAgAAAAABAAAKAAAAAAEAAAQAAAAAAQAAAAAAAAABAAACAAAAAAEAAAYAAAAAAQAAAgAAAAABAAAIAAAAAAIAAAIAAAAAAgAABAAAAAABAAAIAAAAAAIAAAIAAAAAAQAABAAAAAABAAAGAAAAAAEAAAIAAAAAAQAABgAAAAABAAACAAAAAAEAAAQAAAAAAQAABgAAAAABAAACAAAAAAEAAAQAAAAAAQAABgAAAAABAAACAAAAAAEAAAYAAAAAAQAAAgAAAAABAAAGAAAAAAEAAAIAAAAAAQAACgAAAAABAAAEAAAAAAEAAAAAAAAAAQAAAgAAAAABAAAKAAAAAAEAAAQAAAAAAQAAAAAAAAABAAACAAAAAAEAAAgAAAAAAgAAAgAAAAABAAAEAAAAAAEAAAYAAAAAAQAAAgAAAAABAAAKAAAAAAEAAAQAAAAAAQAAAAAAAAABAAACAAAAAAEAAAYAAAAAAQAAAgAAAAABAAAKAAAAAAEAAAQAAAAAAQAAAAAAAAABAAACAAAAAAEAAAYAAAAAAQAAAgAAAAABAAAEAAAAAAEAAAYAAAAAAQAAAgAAAAACAAAEAAAAAAEAAAYAAAAAAQAAAgAAAAABAAAGAAAAAAEAAAIAAAAAAwAABAAAAAABAAAKAAAAAAEAAAQAAAAAAQAAAAAAAAABAAACAAAAAAEAAAYAAAAAAQAAAgAAAAAPAAAEAAAAAAEAAAoAAAAAAQAABAAAAAABAAAAAAAAAAEAAAIAAAAAAQAABgAAAAABAAACAAAAAAgAAAQAAAAAAQAABgAAAAABAAACAAAAAAEAAAQAAAAAAQAABgAAAAABAAACAAAAAAMAAAQAAAAAHHN0c2MAAAAAAAAAAQAAAAEAAABzAAAAAQAAAeBzdHN6AAAAAAAAAAAAAABzAAAQQQAAAT0AAABiAAAAOwAAAFcAAAFIAAAAkwAAAG4AAABjAAAAvwAAAGQAAAFLAAAAkwAAAHQAAADcAAAA6QAAAVsAAACYAAAAYAAAAN8AAAFVAAAAUQAAASoAAABrAAAA9gAAAP0AAABeAAAA4wAAASAAAABuAAAA9QAAAGIAAADZAAAAfAAAAOMAAABuAAAAVgAAAGQAAABTAAAAUAAAAFIAAAA8AAAA1wAAAHUAAABeAAAAugAAAPEAAAB1AAABXAAAAP8AAACTAAAAqAAAATIAAACwAAABXwAAAQUAAACwAAAAtQAAAUIAAADBAAABGwAAAXsAAAC3AAABBAAAAQEAAADuAAAAbQAAANUAAABXAAAAzwAAAHQAAACSAAAAxAAAAIoAAABiAAAAWAAAAG8AAABOAAAAcQAAAIgAAACXAAAAsQAAAPIAAADNAAAAtAAAAKAAAACEAAAAygAAAMoAAADRAAAAxwAAAPUAAADuAAABTQAAARAAAADFAAAAuwAAAXAAAADtAAABKwAAAPYAAAEnAAAA5QAAAM4AAACzAAAAmQAAAM4AAAEvAAAAsAAAAPIAAAEsAAAA0AAAAOsAAAD2AAAAqAAAABRzdGNvAAAAAAAAAAEAAAAwAAAAYnVkdGEAAABabWV0YQAAAAAAAAAhaGRscgAAAAAAAAAAbWRpcmFwcGwAAAAAAAAAAAAAAAAtaWxzdAAAACWpdG9vAAAAHWRhdGEAAAABAAAAAExhdmY1OC4yOS4xMDA=\" type=\"video/mp4\">\n",
              "    </video>\n",
              "    "
            ]
          },
          "metadata": {},
          "execution_count": 93
        }
      ],
      "source": [
        "# 환경을 생성\n",
        "env = gym.make(\"MountainCar-v0\", render_mode=\"rgb_array\")\n",
        "# 비디오 저장을 위해 필요한 코드\n",
        "env = RecordVideo(env, 'video', name_prefix='random-agent') # 단순히 비디오를 위한 코드 / 강화학습만을 할때에는 굳이?\n",
        "\n",
        "#정책 불러오기\n",
        "agent = MyPolicy(env.action_space)\n",
        "state, _ = env.reset() # 환경 초기화\n",
        "env.start_video_recorder() # 비디오 촬영 시작\n",
        "\n",
        "#for t in range(10000):\n",
        "#    action = agent(state) # 상태 정보를 받아서 활동 결정\n",
        "#    state, reward, done, _, _ = env.step(action) # 행동에 의해 상태 변화\n",
        "#    env.render() # 비디오 촬영\n",
        "\n",
        "i=0\n",
        "while 1:\n",
        "  i+=1\n",
        "  action = agent(state)\n",
        "  state, reward, done, _, _ = env.step(action)\n",
        "  env.render()\n",
        "  if done:\n",
        "    break\n",
        "\n",
        "\n",
        "print(i)\n",
        "\n",
        "env.close()\n",
        "view_video('random-agent')"
      ]
    },
    {
      "cell_type": "markdown",
      "metadata": {
        "id": "MY507UKLL6Sx"
      },
      "source": [
        "### BONUS: 강화 학습 에이전트 학습하기"
      ]
    },
    {
      "cell_type": "code",
      "execution_count": 17,
      "metadata": {
        "colab": {
          "base_uri": "https://localhost:8080/"
        },
        "id": "MxmeXv3xlrgD",
        "outputId": "fa6e9eae-13c9-4362-85a9-46fb824dd14a"
      },
      "outputs": [
        {
          "output_type": "stream",
          "name": "stderr",
          "text": [
            "2024-03-09 05:09:40,984\tINFO worker.py:1724 -- Started a local Ray instance.\n",
            "2024-03-09 05:09:54,768\tINFO trainable.py:164 -- Trainable.setup took 17.241 seconds. If your trainable is slow to initialize, consider setting reuse_actors=True to reduce actor creation overheads.\n"
          ]
        }
      ],
      "source": [
        "%%capture\n",
        "from ray.rllib.algorithms.ppo import PPOConfig\n",
        "from ray.tune.logger import pretty_print\n",
        "\n",
        "algo = (\n",
        "    PPOConfig()\n",
        "    .rollouts(num_rollout_workers=1)\n",
        "    .resources(num_gpus=1)\n",
        "    .environment(env=\"MountainCar-v0\")\n",
        "    .build()\n",
        ")\n",
        "\n",
        "for i in range(2):\n",
        "    algo.train()"
      ]
    },
    {
      "cell_type": "code",
      "execution_count": null,
      "metadata": {
        "id": "DKSScPofL6Sx"
      },
      "outputs": [],
      "source": [
        "env = gym.make(\"MountainCar-v0\", render_mode=\"rgb_array\")\n",
        "env = RecordVideo(env, 'video', name_prefix='ppo-agent')\n",
        "\n",
        "state, _ = env.reset()\n",
        "env.start_video_recorder()\n",
        "\n",
        "for t in range(100):\n",
        "    action = algo.compute_single_action(state)\n",
        "    state, reward, done, _, _ = env.step(action)\n",
        "    env.render()\n",
        "\n",
        "env.close()\n",
        "view_video('ppo-agent')"
      ]
    },
    {
      "cell_type": "markdown",
      "metadata": {
        "id": "oKno3lC7L6Sx"
      },
      "source": [
        "# 강화 학습 환경 직접 만져보기"
      ]
    },
    {
      "cell_type": "markdown",
      "metadata": {
        "id": "e1PQpyc7L6Sx"
      },
      "source": [
        "### 블랙잭"
      ]
    },
    {
      "cell_type": "code",
      "source": [
        "import random\n"
      ],
      "metadata": {
        "id": "2eUx1yzyxGF5"
      },
      "execution_count": 21,
      "outputs": []
    },
    {
      "cell_type": "code",
      "source": [
        "p=[[400, 1000] for _ in range(23)]\n",
        "P=[[1, 2] for _ in range(23)]"
      ],
      "metadata": {
        "id": "29kJg2l1vwj0"
      },
      "execution_count": 208,
      "outputs": []
    },
    {
      "cell_type": "code",
      "source": [
        "for i in range(len(p)):\n",
        "  print(i,\" : \", round(p[i][0],2),\"/\",round(p[i][1],2))"
      ],
      "metadata": {
        "colab": {
          "base_uri": "https://localhost:8080/"
        },
        "id": "XbudJHTZ-612",
        "outputId": "36aefb56-0a73-4560-a5a1-e7036e66bb20"
      },
      "execution_count": 204,
      "outputs": [
        {
          "output_type": "stream",
          "name": "stdout",
          "text": [
            "0  :  1 / 1\n",
            "1  :  1 / 1\n",
            "2  :  1 / 1\n",
            "3  :  1 / 1\n",
            "4  :  660.38 / 660.38\n",
            "5  :  1280.04 / 1280.04\n",
            "6  :  1889.81 / 1889.81\n",
            "7  :  2460.49 / 2460.49\n",
            "8  :  3175.92 / 3175.92\n",
            "9  :  3759.28 / 3759.28\n",
            "10  :  4518.72 / 4518.72\n",
            "11  :  4967.15 / 4967.15\n",
            "12  :  5335.75 / 8181.9\n",
            "13  :  4862.56 / 7982.26\n",
            "14  :  4014.27 / 7269.76\n",
            "15  :  3417.87 / 6739.91\n",
            "16  :  2857.95 / 6117.02\n",
            "17  :  1948.15 / 5005.61\n",
            "18  :  161.56 / 3366.4\n",
            "19  :  1.22 / 2826.19\n",
            "20  :  0.84 / 4784.3\n",
            "21  :  1 / 2483.68\n",
            "22  :  1 / 1\n"
          ]
        }
      ]
    },
    {
      "cell_type": "code",
      "source": [
        "for i in range(len(P)):\n",
        "  print(i,\" : \", p[i][0],\"/\",p[i][1])"
      ],
      "metadata": {
        "id": "UZwrWAO9CvyP"
      },
      "execution_count": null,
      "outputs": []
    },
    {
      "cell_type": "code",
      "source": [
        "class MyPolicy():\n",
        "  def __init__(self, action_space):\n",
        "    self.action_space = action_space\n",
        "    #self.p = [[1, 1] for _ in range(23)]\n",
        "  def __call__(self, state):\n",
        "    cur, D, a = state\n",
        "    q=random.random()\n",
        "    if cur>=21:\n",
        "      return 0\n",
        "    if q < p[cur][0] / p[cur][1]:\n",
        "      return 1\n",
        "    else:\n",
        "      return 0\n"
      ],
      "metadata": {
        "id": "JhAeqRSbxBAL"
      },
      "execution_count": 209,
      "outputs": []
    },
    {
      "cell_type": "code",
      "source": [
        "# Create the Blackjack environment\n",
        "env = gym.make('Blackjack-v1')\n",
        "env = RecordVideo(env, 'video', name_prefix='blackjack')\n",
        "\n",
        "state, _ = env.reset()\n",
        "env.start_video_recorder()\n",
        "\n",
        "#print('Available actions:', env.action_space)\n",
        "#print('Observation space:', env.observation_space)\n",
        "#print('The starting state is:', state)\n",
        "\n",
        "win=0\n",
        "draw=0\n",
        "lose=2\n",
        "\n",
        "bust=1\n",
        "low=1"
      ],
      "metadata": {
        "id": "Aw1KPhRIHcB2"
      },
      "execution_count": 210,
      "outputs": []
    },
    {
      "cell_type": "code",
      "execution_count": 213,
      "metadata": {
        "colab": {
          "base_uri": "https://localhost:8080/"
        },
        "id": "lEQf1JyPL6Sy",
        "outputId": "bb52d9ba-eb1a-447a-f666-d949d1f899dc"
      },
      "outputs": [
        {
          "output_type": "stream",
          "name": "stdout",
          "text": [
            "win : 37.77%\n",
            "draw : 6.13%\n",
            "lose : 56.09%\n",
            "\n",
            "bust :  52787\n",
            "low :  115487\n"
          ]
        }
      ],
      "source": [
        "\n",
        "\n",
        "for i in range(100000):\n",
        "\n",
        "  done = False\n",
        "  reward = 0\n",
        "  while not done:\n",
        "      state, _ = env.reset()\n",
        "\n",
        "      agent = MyPolicy(env.action_space)\n",
        "      action = agent(state)\n",
        "\n",
        "      pre_state = state\n",
        "      pre_my, _, __ = pre_state\n",
        "      state, reward, done, _, info = env.step(action)\n",
        "\n",
        "      if action==1:\n",
        "        p[pre_my][1]+=hit\n",
        "        if reward!=-1:\n",
        "          p[pre_my][0]+=hit\n",
        "\n",
        "      elif action==0 and pre_my<=21:\n",
        "        if reward!=0:\n",
        "          p[pre_my][1]+=stop\n",
        "          if reward==-1:\n",
        "            p[pre_my][0]+=stop\n",
        "          elif reward==1 and p[pre_my][0]>1:\n",
        "            p[pre_my][0]-=stop\n",
        "\n",
        "\n",
        "\n",
        "  if reward == 1.0:\n",
        "    win+=1\n",
        "  elif reward == -1.0:\n",
        "    lose+=1\n",
        "    bust+=action\n",
        "    low=lose-bust\n",
        "  else:\n",
        "    draw+=1\n",
        "\n",
        "  hit = low/(bust+low)\n",
        "  stop = bust/(bust+low)\n",
        "\n",
        "print(\"win : \", round(win/(win+draw+lose) *100,2), \"%\",sep='')\n",
        "print(\"draw : \", round(draw/(win+draw+lose) *100,2), \"%\",sep='')\n",
        "print(\"lose : \", round(lose/(win+draw+lose) *100,2), \"%\",sep='')\n",
        "print()\n",
        "print(\"bust : \", bust-1)\n",
        "print(\"low : \", low-1)\n",
        "\n",
        "\n",
        "\n",
        "\n",
        "      #env.render()\n",
        "      #print(info)\n",
        "      # Print the current state, reward, and whether the episode is done\n",
        "      #print('State:', state)\n",
        "      #print('Reward:', reward)\n",
        "      #print('Done:', done)\n",
        "\n",
        "\n",
        "\n",
        "# Close the environment\n",
        "env.close()\n"
      ]
    },
    {
      "cell_type": "markdown",
      "metadata": {
        "id": "T953YZX-L6Sy"
      },
      "source": [
        "### Tic-Tac-Toe"
      ]
    },
    {
      "cell_type": "code",
      "execution_count": null,
      "metadata": {
        "id": "Df-Y4v8HL6Sy"
      },
      "outputs": [],
      "source": [
        "import numpy as np\n",
        "import gymnasium as gym\n",
        "from gymnasium import spaces\n",
        "\n",
        "class TicTacToeEnv(gym.Env):\n",
        "    def __init__(self):\n",
        "        self.board = np.zeros((3, 3), dtype=int)\n",
        "        self.current_player = 1\n",
        "        self.action_space = spaces.Discrete(9)\n",
        "        self.observation_space = spaces.Box(low=0, high=1, shape=(3, 3), dtype=int)\n",
        "\n",
        "    def reset(self):\n",
        "        self.board = np.zeros((3, 3), dtype=int)\n",
        "        self.current_player = 1\n",
        "        return self.board\n",
        "\n",
        "    def step(self, action):\n",
        "        row = action // 3\n",
        "        col = action % 3\n",
        "\n",
        "        if self.board[row, col] != 0:\n",
        "            return self.board, -1, False, False, {}\n",
        "\n",
        "        self.board[row, col] = self.current_player\n",
        "\n",
        "        if self._check_winner(self.current_player):\n",
        "            return self.board, 1, True, False, {}\n",
        "\n",
        "        if np.count_nonzero(self.board) == 9:\n",
        "            return self.board, 0, True, False, {}\n",
        "\n",
        "        self.current_player = -self.current_player\n",
        "        return self.board, 0, False, False, {}\n",
        "\n",
        "    def render(self):\n",
        "        print(self.board)\n",
        "\n",
        "    def _check_winner(self, player):\n",
        "        for i in range(3):\n",
        "            if np.all(self.board[i, :] == player) or np.all(self.board[:, i] == player):\n",
        "                return True\n",
        "        if np.all(np.diag(self.board) == player) or np.all(np.diag(np.fliplr(self.board)) == player):\n",
        "            return True\n",
        "        return False"
      ]
    },
    {
      "cell_type": "code",
      "execution_count": null,
      "metadata": {
        "id": "mnUxktgbL6Sy"
      },
      "outputs": [],
      "source": [
        "env = TicTacToeEnv()\n",
        "state = env.reset()\n",
        "env.render()\n",
        "\n",
        "done = False\n",
        "while not done:\n",
        "    action = ?????\n",
        "    state, reward, done, _ = env.step(action)\n",
        "    env.render()"
      ]
    }
  ],
  "metadata": {
    "accelerator": "GPU",
    "colab": {
      "gpuType": "T4",
      "provenance": [],
      "include_colab_link": true
    },
    "kernelspec": {
      "display_name": "Python 3",
      "name": "python3"
    },
    "language_info": {
      "codemirror_mode": {
        "name": "ipython",
        "version": 3
      },
      "file_extension": ".py",
      "mimetype": "text/x-python",
      "name": "python",
      "nbconvert_exporter": "python",
      "pygments_lexer": "ipython3",
      "version": "3.9.6"
    }
  },
  "nbformat": 4,
  "nbformat_minor": 0
}